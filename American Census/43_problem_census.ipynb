{
 "cells": [
  {
   "cell_type": "markdown",
   "metadata": {},
   "source": [
    "\n",
    "# American Census"
   ]
  },
  {
   "cell_type": "code",
   "execution_count": 167,
   "metadata": {},
   "outputs": [],
   "source": [
    "import numpy as np\n",
    "import pandas as pd\n",
    "\n",
    "from sklearn.naive_bayes import GaussianNB\n",
    "from sklearn.dummy import DummyClassifier\n",
    "from sklearn.tree import DecisionTreeClassifier\n",
    "from sklearn.svm import SVC\n",
    "from sklearn.neighbors import KNeighborsClassifier\n",
    "from sklearn.linear_model import LogisticRegression\n",
    "from sklearn import preprocessing\n",
    "\n",
    "import matplotlib.pyplot as plt\n",
    "import plotly.express as px"
   ]
  },
  {
   "cell_type": "markdown",
   "metadata": {},
   "source": [
    "## Global config"
   ]
  },
  {
   "cell_type": "code",
   "execution_count": 168,
   "metadata": {},
   "outputs": [],
   "source": [
    "# Data config\n",
    "path_to_csv = \"adult.csv\""
   ]
  },
  {
   "cell_type": "markdown",
   "metadata": {},
   "source": [
    "## Load data"
   ]
  },
  {
   "cell_type": "code",
   "execution_count": 169,
   "metadata": {},
   "outputs": [],
   "source": [
    "X_train = pd.read_csv(\"X_train.csv\")\n",
    "y_train = pd.read_csv(\"y_train.csv\")\n",
    "\n",
    "X_test = pd.read_csv(\"X_test.csv\")\n"
   ]
  },
  {
   "cell_type": "markdown",
   "metadata": {},
   "source": [
    "## Helpers"
   ]
  },
  {
   "cell_type": "code",
   "execution_count": 170,
   "metadata": {},
   "outputs": [],
   "source": [
    "# TODO"
   ]
  },
  {
   "cell_type": "markdown",
   "metadata": {},
   "source": [
    "## Data exploration"
   ]
  },
  {
   "cell_type": "markdown",
   "metadata": {},
   "source": [
    "### Question 1"
   ]
  },
  {
   "cell_type": "code",
   "execution_count": 171,
   "metadata": {},
   "outputs": [
    {
     "data": {
      "text/html": [
       "<div>\n",
       "<style scoped>\n",
       "    .dataframe tbody tr th:only-of-type {\n",
       "        vertical-align: middle;\n",
       "    }\n",
       "\n",
       "    .dataframe tbody tr th {\n",
       "        vertical-align: top;\n",
       "    }\n",
       "\n",
       "    .dataframe thead th {\n",
       "        text-align: right;\n",
       "    }\n",
       "</style>\n",
       "<table border=\"1\" class=\"dataframe\">\n",
       "  <thead>\n",
       "    <tr style=\"text-align: right;\">\n",
       "      <th></th>\n",
       "      <th>age</th>\n",
       "      <th>education-num</th>\n",
       "      <th>hours-per-week</th>\n",
       "    </tr>\n",
       "  </thead>\n",
       "  <tbody>\n",
       "    <tr>\n",
       "      <th>count</th>\n",
       "      <td>16280.000000</td>\n",
       "      <td>16040.00000</td>\n",
       "      <td>16280.000000</td>\n",
       "    </tr>\n",
       "    <tr>\n",
       "      <th>mean</th>\n",
       "      <td>38.600614</td>\n",
       "      <td>10.09414</td>\n",
       "      <td>40.392936</td>\n",
       "    </tr>\n",
       "    <tr>\n",
       "      <th>std</th>\n",
       "      <td>13.695138</td>\n",
       "      <td>2.55840</td>\n",
       "      <td>12.345950</td>\n",
       "    </tr>\n",
       "    <tr>\n",
       "      <th>min</th>\n",
       "      <td>17.000000</td>\n",
       "      <td>1.00000</td>\n",
       "      <td>1.000000</td>\n",
       "    </tr>\n",
       "    <tr>\n",
       "      <th>25%</th>\n",
       "      <td>28.000000</td>\n",
       "      <td>9.00000</td>\n",
       "      <td>40.000000</td>\n",
       "    </tr>\n",
       "    <tr>\n",
       "      <th>50%</th>\n",
       "      <td>37.000000</td>\n",
       "      <td>10.00000</td>\n",
       "      <td>40.000000</td>\n",
       "    </tr>\n",
       "    <tr>\n",
       "      <th>75%</th>\n",
       "      <td>48.000000</td>\n",
       "      <td>12.00000</td>\n",
       "      <td>45.000000</td>\n",
       "    </tr>\n",
       "    <tr>\n",
       "      <th>max</th>\n",
       "      <td>90.000000</td>\n",
       "      <td>16.00000</td>\n",
       "      <td>99.000000</td>\n",
       "    </tr>\n",
       "  </tbody>\n",
       "</table>\n",
       "</div>"
      ],
      "text/plain": [
       "                age  education-num  hours-per-week\n",
       "count  16280.000000    16040.00000    16280.000000\n",
       "mean      38.600614       10.09414       40.392936\n",
       "std       13.695138        2.55840       12.345950\n",
       "min       17.000000        1.00000        1.000000\n",
       "25%       28.000000        9.00000       40.000000\n",
       "50%       37.000000       10.00000       40.000000\n",
       "75%       48.000000       12.00000       45.000000\n",
       "max       90.000000       16.00000       99.000000"
      ]
     },
     "execution_count": 171,
     "metadata": {},
     "output_type": "execute_result"
    }
   ],
   "source": [
    "X_train.describe()"
   ]
  },
  {
   "cell_type": "code",
   "execution_count": 172,
   "metadata": {
    "scrolled": true
   },
   "outputs": [],
   "source": [
    "\n",
    "\n",
    "# TODO\n",
    "#print(X_train.head())\n",
    "#print(y_train.head())\n",
    "\n",
    "hours_per_week = ['hours-per-week']\n",
    "education_num = ['education-num']\n"
   ]
  },
  {
   "cell_type": "code",
   "execution_count": 173,
   "metadata": {},
   "outputs": [
    {
     "data": {
      "text/plain": [
       "array([[<AxesSubplot:title={'center':'age'}>,\n",
       "        <AxesSubplot:title={'center':'education-num'}>],\n",
       "       [<AxesSubplot:title={'center':'hours-per-week'}>, <AxesSubplot:>]],\n",
       "      dtype=object)"
      ]
     },
     "execution_count": 173,
     "metadata": {},
     "output_type": "execute_result"
    },
    {
     "data": {
      "image/png": "[encoded data removed]",
      "text/plain": [
       "<Figure size 1440x432 with 4 Axes>"
      ]
     },
     "metadata": {
      "needs_background": "light"
     },
     "output_type": "display_data"
    }
   ],
   "source": [
    "#The distribution of our dataset\n",
    "X_train.hist(bins = 25, figsize = (20, 6))"
   ]
  },
  {
   "cell_type": "code",
   "execution_count": 174,
   "metadata": {},
   "outputs": [
    {
     "data": {
      "text/plain": [
       "array([[<AxesSubplot:title={'center':'age'}>,\n",
       "        <AxesSubplot:title={'center':'education-num'}>],\n",
       "       [<AxesSubplot:title={'center':'hours-per-week'}>, <AxesSubplot:>]],\n",
       "      dtype=object)"
      ]
     },
     "execution_count": 174,
     "metadata": {},
     "output_type": "execute_result"
    },
    {
     "data": {
      "image/png": "[encoded data removed]",
      "text/plain": [
       "<Figure size 1440x432 with 4 Axes>"
      ]
     },
     "metadata": {
      "needs_background": "light"
     },
     "output_type": "display_data"
    },
    {
     "data": {
      "image/png": "[encoded data removed]",
      "text/plain": [
       "<Figure size 1440x432 with 4 Axes>"
      ]
     },
     "metadata": {
      "needs_background": "light"
     },
     "output_type": "display_data"
    }
   ],
   "source": [
    "#Salary bigger than 50k\n",
    "X_train1 = X_train.where(y_train.salary == 1)\n",
    "X_train1 = X_train1.dropna(axis = 0)\n",
    "X_train1.hist(bins = 25, figsize = (20, 6))\n",
    "\n",
    "#Salary smaller than 50k\n",
    "X_train2 = X_train.where(y_train.salary == 0)\n",
    "X_train2 = X_train2.dropna(axis = 0)\n",
    "X_train2.hist(bins = 25, figsize = (20, 6))\n"
   ]
  },
  {
   "cell_type": "code",
   "execution_count": 175,
   "metadata": {},
   "outputs": [
    {
     "data": {
      "image/png": "[encoded data removed]",
      "text/plain": [
       "<Figure size 432x288 with 1 Axes>"
      ]
     },
     "metadata": {
      "needs_background": "light"
     },
     "output_type": "display_data"
    }
   ],
   "source": [
    "#Distribution of age between people making over 50k and people making less than 50k\n",
    "fig, ax = plt.subplots()\n",
    "a_heights, a_bins = np.histogram(X_train1.age)\n",
    "b_heights, b_bins = np.histogram(X_train2.age, bins = a_bins)\n",
    "\n",
    "width = (a_bins[1] - a_bins[0])/3\n",
    "\n",
    "ax.bar(a_bins[:-1], a_heights, width = width, label = 'Over 50k')\n",
    "ax.bar(b_bins[:-1]+width, b_heights, width = width, label = 'Under 50k')\n",
    "ax.legend(bbox_to_anchor=(1.05, 1.0), loc='upper left')\n",
    "ax.title.set_text(\"Distribution of age between people making over 50k and people making less than 50k\")"
   ]
  },
  {
   "cell_type": "code",
   "execution_count": 176,
   "metadata": {
    "scrolled": true
   },
   "outputs": [
    {
     "data": {
      "image/png": "[encoded data removed]",
      "text/plain": [
       "<Figure size 432x288 with 1 Axes>"
      ]
     },
     "metadata": {
      "needs_background": "light"
     },
     "output_type": "display_data"
    }
   ],
   "source": [
    "#Distribution of hours per week between people making over 50k and people making less than 50k\n",
    "fig, ax = plt.subplots()\n",
    "a_heights, a_bins = np.histogram(X_train1['hours-per-week'])\n",
    "b_heights, b_bins = np.histogram(X_train2['hours-per-week'], bins = a_bins)\n",
    "\n",
    "width = (a_bins[1] - a_bins[0])/3\n",
    "\n",
    "ax.bar(a_bins[:-1], a_heights, width = width, label = 'Over 50k')\n",
    "ax.bar(b_bins[:-1]+width, b_heights, width = width, label = 'Under 50k')\n",
    "ax.legend(bbox_to_anchor=(1.05, 1.0), loc='upper left')\n",
    "ax.title.set_text(\"Distribution of hours per week between people making over 50k and people making less than 50k\")"
   ]
  },
  {
   "cell_type": "code",
   "execution_count": 177,
   "metadata": {},
   "outputs": [
    {
     "data": {
      "image/png": "[encoded data removed]",
      "text/plain": [
       "<Figure size 432x288 with 1 Axes>"
      ]
     },
     "metadata": {
      "needs_background": "light"
     },
     "output_type": "display_data"
    }
   ],
   "source": [
    "#Distribution of number of years in education between people making over 50k and people making less than 50k\n",
    "fig, ax = plt.subplots()\n",
    "a_heights, a_bins = np.histogram(X_train1['education-num'])\n",
    "b_heights, b_bins = np.histogram(X_train2['education-num'], bins = a_bins)\n",
    "\n",
    "width = (a_bins[1] - a_bins[0])/3\n",
    "\n",
    "ax.bar(a_bins[:-1], a_heights, width = width, label = 'Over 50k')\n",
    "ax.bar(b_bins[:-1]+width, b_heights, width = width, label = 'Under 50k')\n",
    "ax.legend(bbox_to_anchor=(1.05, 1.0), loc='upper left')\n",
    "ax.title.set_text(\"Distribution of number of years in education between people making over 50k and people making less than 50k\")"
   ]
  },
  {
   "cell_type": "code",
   "execution_count": 178,
   "metadata": {},
   "outputs": [],
   "source": [
    "#As you can see, there are a lot more people who make under 50k per year, than people who make more than 50k\n",
    "#This means that our dataset is inbalanced and we need to choose a classification metrics that takes into...\n",
    "#...account this aspect. For example we could use a 'balanced accuracy_score' or 'MCC'"
   ]
  },
  {
   "cell_type": "markdown",
   "metadata": {},
   "source": [
    "### Question 2"
   ]
  },
  {
   "cell_type": "code",
   "execution_count": 179,
   "metadata": {},
   "outputs": [
    {
     "name": "stdout",
     "output_type": "stream",
     "text": [
      "       age  education-num  hours-per-week     workclass      education  \\\n",
      "0       30            9.0              40       Private        HS-grad   \n",
      "1       77           10.0               6           NaN   Some-college   \n",
      "2       44           12.0              50       Private     Assoc-acdm   \n",
      "3       53           10.0              50       Private   Some-college   \n",
      "4       41           10.0              40   Federal-gov   Some-college   \n",
      "...    ...            ...             ...           ...            ...   \n",
      "16275   31           11.0              30       Private      Assoc-voc   \n",
      "16276   37           13.0              40     State-gov      Bachelors   \n",
      "16277   45           14.0              40     State-gov        Masters   \n",
      "16278   32            9.0              40       Private        HS-grad   \n",
      "16279   58            7.0              50       Private           11th   \n",
      "\n",
      "            marital-status          occupation    relationship  \\\n",
      "0       Married-civ-spouse               Sales       Own-child   \n",
      "1       Married-civ-spouse                 NaN         Husband   \n",
      "2            Never-married      Prof-specialty       Unmarried   \n",
      "3            Never-married        Adm-clerical   Not-in-family   \n",
      "4       Married-civ-spouse    Transport-moving            Wife   \n",
      "...                    ...                 ...             ...   \n",
      "16275   Married-civ-spouse    Transport-moving         Husband   \n",
      "16276        Never-married      Prof-specialty   Not-in-family   \n",
      "16277             Divorced     Exec-managerial       Unmarried   \n",
      "16278        Never-married   Machine-op-inspct   Not-in-family   \n",
      "16279   Married-civ-spouse    Transport-moving         Husband   \n",
      "\n",
      "                      race      sex  native-country  \n",
      "0       Asian-Pac-Islander   Female   United-States  \n",
      "1                    White     Male   United-States  \n",
      "2                    Black   Female   United-States  \n",
      "3                    White   Female   United-States  \n",
      "4                    White   Female   United-States  \n",
      "...                    ...      ...             ...  \n",
      "16275                White     Male   United-States  \n",
      "16276                White   Female   United-States  \n",
      "16277                White   Female   United-States  \n",
      "16278                White     Male   United-States  \n",
      "16279                White     Male   United-States  \n",
      "\n",
      "[16280 rows x 11 columns]\n",
      "       age  education-num  hours-per-week workclass education marital-status  \\\n",
      "0      NaN            NaN             NaN       NaN       NaN            NaN   \n",
      "1      NaN            NaN             NaN       NaN       NaN            NaN   \n",
      "2      NaN            NaN             NaN       NaN       NaN            NaN   \n",
      "3      NaN            NaN             NaN       NaN       NaN            NaN   \n",
      "4      NaN            NaN             NaN       NaN       NaN            NaN   \n",
      "...    ...            ...             ...       ...       ...            ...   \n",
      "16275  NaN            NaN             NaN       NaN       NaN            NaN   \n",
      "16276  NaN            NaN             NaN       NaN       NaN            NaN   \n",
      "16277  NaN            NaN             NaN       NaN       NaN            NaN   \n",
      "16278  NaN            NaN             NaN       NaN       NaN            NaN   \n",
      "16279  NaN            NaN             NaN       NaN       NaN            NaN   \n",
      "\n",
      "      occupation relationship race  sex native-country  \n",
      "0            NaN          NaN  NaN  NaN            NaN  \n",
      "1            NaN          NaN  NaN  NaN            NaN  \n",
      "2            NaN          NaN  NaN  NaN            NaN  \n",
      "3            NaN          NaN  NaN  NaN            NaN  \n",
      "4            NaN          NaN  NaN  NaN            NaN  \n",
      "...          ...          ...  ...  ...            ...  \n",
      "16275        NaN          NaN  NaN  NaN            NaN  \n",
      "16276        NaN          NaN  NaN  NaN            NaN  \n",
      "16277        NaN          NaN  NaN  NaN            NaN  \n",
      "16278        NaN          NaN  NaN  NaN            NaN  \n",
      "16279        NaN          NaN  NaN  NaN            NaN  \n",
      "\n",
      "[16280 rows x 11 columns]\n"
     ]
    },
    {
     "data": {
      "text/plain": [
       "array([[<AxesSubplot:title={'center':'age'}>,\n",
       "        <AxesSubplot:title={'center':'education-num'}>],\n",
       "       [<AxesSubplot:title={'center':'hours-per-week'}>, <AxesSubplot:>]],\n",
       "      dtype=object)"
      ]
     },
     "execution_count": 179,
     "metadata": {},
     "output_type": "execute_result"
    },
    {
     "data": {
      "image/png": "[encoded data removed]",
      "text/plain": [
       "<Figure size 1440x432 with 4 Axes>"
      ]
     },
     "metadata": {
      "needs_background": "light"
     },
     "output_type": "display_data"
    }
   ],
   "source": [
    "# TODO\n",
    "X_train_male = X_train.where(X_train.sex == 'Male')\n",
    "print(X_train)\n",
    "print(X_train_male)\n",
    "X_train_male = X_train_male.dropna(axis = 0)\n",
    "\n",
    "X_train_male.hist(bins = 25, figsize = (20, 6))"
   ]
  },
  {
   "cell_type": "markdown",
   "metadata": {},
   "source": [
    "## Data exploration"
   ]
  },
  {
   "cell_type": "markdown",
   "metadata": {},
   "source": [
    "### Question 1"
   ]
  },
  {
   "cell_type": "code",
   "execution_count": 180,
   "metadata": {},
   "outputs": [
    {
     "name": "stdout",
     "output_type": "stream",
     "text": [
      "A list with the total missing values in the dataframe:\n",
      "age                  0\n",
      "education-num      240\n",
      "hours-per-week       0\n",
      "workclass          936\n",
      "education            0\n",
      "marital-status       0\n",
      "occupation        1181\n",
      "relationship         0\n",
      "race                 0\n",
      "sex                  0\n",
      "native-country     300\n",
      "salary               0\n",
      "dtype: int64\n",
      "The size of the dataset is 16280\n",
      "A list with the total missing values in the dataframe:\n",
      "age               0\n",
      "education-num     0\n",
      "hours-per-week    0\n",
      "workclass         0\n",
      "education         0\n",
      "marital-status    0\n",
      "occupation        0\n",
      "relationship      0\n",
      "race              0\n",
      "sex               0\n",
      "salary            0\n",
      "dtype: int64\n",
      "The size of the dataset is 14988\n"
     ]
    }
   ],
   "source": [
    "# TODO\n",
    "#Before we do the pre-processing we want to combine X_train and y_train such that every change that we do to X_train will also apply to y_train\n",
    "X_train['salary'] = y_train\n",
    "print(\"A list with the total missing values in the dataframe:\\n\" + str(X_train.isnull().sum()))\n",
    "print(\"The size of the dataset is\", len(X_train))\n",
    "#Since by introducing the native-country as a feature, we will most likely introduce bias in our data set, we will\n",
    "#ignore the missing values from the native_country\n",
    "native_country = X_train['native-country']\n",
    "X_train = X_train.drop(columns = ['native-country'])\n",
    "X_test = X_test.drop(columns = ['native-country'])\n",
    "X_train.dropna(inplace = True)\n",
    "X_test.dropna(inplace = True)\n",
    "print(\"A list with the total missing values in the dataframe:\\n\" + str(X_train.isnull().sum()))\n",
    "print(\"The size of the dataset is\", len(X_train))"
   ]
  },
  {
   "cell_type": "markdown",
   "metadata": {},
   "source": [
    "### Question 2"
   ]
  },
  {
   "cell_type": "code",
   "execution_count": 181,
   "metadata": {},
   "outputs": [],
   "source": [
    "# TODO\n",
    "#We already droped native-country because of introducing bias\n",
    "#Relationship will also introduce bias so, we don't need to preprocess that part(e.g. \"wife\", \"husband\" can determine the sex)\n",
    "#Same for race and sex\n",
    "#I don't believe that the marital-status has anything to do with the income of a person, so we won't preprocess that either\n",
    "#Education can also be reflected in education-num which is already a numerical feature.\n",
    "\n",
    "#Now we drop all the columns that we don't use and assign them to separate variables\n",
    "relationship = X_train['relationship']\n",
    "race = X_train['race']\n",
    "sex = X_train['sex']\n",
    "marital_status = X_train['marital-status']\n",
    "education = X_train['education']\n",
    "\n",
    "dropColumns = ['relationship', 'race', 'sex', 'marital-status','education']\n",
    "X_train.drop(columns = dropColumns, inplace = True)\n",
    "X_test.drop(columns = dropColumns, inplace = True)\n",
    "\n"
   ]
  },
  {
   "cell_type": "code",
   "execution_count": 182,
   "metadata": {},
   "outputs": [
    {
     "data": {
      "text/html": [
       "<div>\n",
       "<style scoped>\n",
       "    .dataframe tbody tr th:only-of-type {\n",
       "        vertical-align: middle;\n",
       "    }\n",
       "\n",
       "    .dataframe tbody tr th {\n",
       "        vertical-align: top;\n",
       "    }\n",
       "\n",
       "    .dataframe thead th {\n",
       "        text-align: right;\n",
       "    }\n",
       "</style>\n",
       "<table border=\"1\" class=\"dataframe\">\n",
       "  <thead>\n",
       "    <tr style=\"text-align: right;\">\n",
       "      <th></th>\n",
       "      <th>age</th>\n",
       "      <th>education-num</th>\n",
       "      <th>hours-per-week</th>\n",
       "      <th>workclass</th>\n",
       "      <th>occupation</th>\n",
       "      <th>salary</th>\n",
       "    </tr>\n",
       "  </thead>\n",
       "  <tbody>\n",
       "    <tr>\n",
       "      <th>0</th>\n",
       "      <td>30</td>\n",
       "      <td>9.0</td>\n",
       "      <td>40</td>\n",
       "      <td>Private</td>\n",
       "      <td>Sales</td>\n",
       "      <td>0</td>\n",
       "    </tr>\n",
       "    <tr>\n",
       "      <th>2</th>\n",
       "      <td>44</td>\n",
       "      <td>12.0</td>\n",
       "      <td>50</td>\n",
       "      <td>Private</td>\n",
       "      <td>Prof-specialty</td>\n",
       "      <td>0</td>\n",
       "    </tr>\n",
       "    <tr>\n",
       "      <th>3</th>\n",
       "      <td>53</td>\n",
       "      <td>10.0</td>\n",
       "      <td>50</td>\n",
       "      <td>Private</td>\n",
       "      <td>Adm-clerical</td>\n",
       "      <td>1</td>\n",
       "    </tr>\n",
       "    <tr>\n",
       "      <th>4</th>\n",
       "      <td>41</td>\n",
       "      <td>10.0</td>\n",
       "      <td>40</td>\n",
       "      <td>Federal-gov</td>\n",
       "      <td>Transport-moving</td>\n",
       "      <td>1</td>\n",
       "    </tr>\n",
       "    <tr>\n",
       "      <th>5</th>\n",
       "      <td>50</td>\n",
       "      <td>14.0</td>\n",
       "      <td>50</td>\n",
       "      <td>Private</td>\n",
       "      <td>Prof-specialty</td>\n",
       "      <td>1</td>\n",
       "    </tr>\n",
       "  </tbody>\n",
       "</table>\n",
       "</div>"
      ],
      "text/plain": [
       "   age  education-num  hours-per-week     workclass         occupation  salary\n",
       "0   30            9.0              40       Private              Sales       0\n",
       "2   44           12.0              50       Private     Prof-specialty       0\n",
       "3   53           10.0              50       Private       Adm-clerical       1\n",
       "4   41           10.0              40   Federal-gov   Transport-moving       1\n",
       "5   50           14.0              50       Private     Prof-specialty       1"
      ]
     },
     "execution_count": 182,
     "metadata": {},
     "output_type": "execute_result"
    }
   ],
   "source": [
    "X_train.head()"
   ]
  },
  {
   "cell_type": "code",
   "execution_count": 183,
   "metadata": {},
   "outputs": [
    {
     "data": {
      "text/html": [
       "<div>\n",
       "<style scoped>\n",
       "    .dataframe tbody tr th:only-of-type {\n",
       "        vertical-align: middle;\n",
       "    }\n",
       "\n",
       "    .dataframe tbody tr th {\n",
       "        vertical-align: top;\n",
       "    }\n",
       "\n",
       "    .dataframe thead th {\n",
       "        text-align: right;\n",
       "    }\n",
       "</style>\n",
       "<table border=\"1\" class=\"dataframe\">\n",
       "  <thead>\n",
       "    <tr style=\"text-align: right;\">\n",
       "      <th></th>\n",
       "      <th>age</th>\n",
       "      <th>education-num</th>\n",
       "      <th>hours-per-week</th>\n",
       "      <th>occupation</th>\n",
       "      <th>salary</th>\n",
       "      <th>workclass0</th>\n",
       "      <th>workclass1</th>\n",
       "      <th>workclass2</th>\n",
       "      <th>workclass3</th>\n",
       "      <th>workclass4</th>\n",
       "      <th>workclass5</th>\n",
       "      <th>workclass6</th>\n",
       "    </tr>\n",
       "  </thead>\n",
       "  <tbody>\n",
       "    <tr>\n",
       "      <th>0</th>\n",
       "      <td>30</td>\n",
       "      <td>9.0</td>\n",
       "      <td>40</td>\n",
       "      <td>Sales</td>\n",
       "      <td>0</td>\n",
       "      <td>0.0</td>\n",
       "      <td>0.0</td>\n",
       "      <td>1.0</td>\n",
       "      <td>0.0</td>\n",
       "      <td>0.0</td>\n",
       "      <td>0.0</td>\n",
       "      <td>0.0</td>\n",
       "    </tr>\n",
       "    <tr>\n",
       "      <th>2</th>\n",
       "      <td>44</td>\n",
       "      <td>12.0</td>\n",
       "      <td>50</td>\n",
       "      <td>Prof-specialty</td>\n",
       "      <td>0</td>\n",
       "      <td>0.0</td>\n",
       "      <td>0.0</td>\n",
       "      <td>1.0</td>\n",
       "      <td>0.0</td>\n",
       "      <td>0.0</td>\n",
       "      <td>0.0</td>\n",
       "      <td>0.0</td>\n",
       "    </tr>\n",
       "    <tr>\n",
       "      <th>3</th>\n",
       "      <td>53</td>\n",
       "      <td>10.0</td>\n",
       "      <td>50</td>\n",
       "      <td>Adm-clerical</td>\n",
       "      <td>1</td>\n",
       "      <td>1.0</td>\n",
       "      <td>0.0</td>\n",
       "      <td>0.0</td>\n",
       "      <td>0.0</td>\n",
       "      <td>0.0</td>\n",
       "      <td>0.0</td>\n",
       "      <td>0.0</td>\n",
       "    </tr>\n",
       "    <tr>\n",
       "      <th>4</th>\n",
       "      <td>41</td>\n",
       "      <td>10.0</td>\n",
       "      <td>40</td>\n",
       "      <td>Transport-moving</td>\n",
       "      <td>1</td>\n",
       "      <td>0.0</td>\n",
       "      <td>0.0</td>\n",
       "      <td>1.0</td>\n",
       "      <td>0.0</td>\n",
       "      <td>0.0</td>\n",
       "      <td>0.0</td>\n",
       "      <td>0.0</td>\n",
       "    </tr>\n",
       "    <tr>\n",
       "      <th>5</th>\n",
       "      <td>50</td>\n",
       "      <td>14.0</td>\n",
       "      <td>50</td>\n",
       "      <td>Prof-specialty</td>\n",
       "      <td>1</td>\n",
       "      <td>0.0</td>\n",
       "      <td>1.0</td>\n",
       "      <td>0.0</td>\n",
       "      <td>0.0</td>\n",
       "      <td>0.0</td>\n",
       "      <td>0.0</td>\n",
       "      <td>0.0</td>\n",
       "    </tr>\n",
       "    <tr>\n",
       "      <th>...</th>\n",
       "      <td>...</td>\n",
       "      <td>...</td>\n",
       "      <td>...</td>\n",
       "      <td>...</td>\n",
       "      <td>...</td>\n",
       "      <td>...</td>\n",
       "      <td>...</td>\n",
       "      <td>...</td>\n",
       "      <td>...</td>\n",
       "      <td>...</td>\n",
       "      <td>...</td>\n",
       "      <td>...</td>\n",
       "    </tr>\n",
       "    <tr>\n",
       "      <th>14983</th>\n",
       "      <td>48</td>\n",
       "      <td>13.0</td>\n",
       "      <td>40</td>\n",
       "      <td>Prof-specialty</td>\n",
       "      <td>0</td>\n",
       "      <td>0.0</td>\n",
       "      <td>0.0</td>\n",
       "      <td>1.0</td>\n",
       "      <td>0.0</td>\n",
       "      <td>0.0</td>\n",
       "      <td>0.0</td>\n",
       "      <td>0.0</td>\n",
       "    </tr>\n",
       "    <tr>\n",
       "      <th>14984</th>\n",
       "      <td>40</td>\n",
       "      <td>14.0</td>\n",
       "      <td>40</td>\n",
       "      <td>Exec-managerial</td>\n",
       "      <td>0</td>\n",
       "      <td>0.0</td>\n",
       "      <td>0.0</td>\n",
       "      <td>0.0</td>\n",
       "      <td>0.0</td>\n",
       "      <td>0.0</td>\n",
       "      <td>1.0</td>\n",
       "      <td>0.0</td>\n",
       "    </tr>\n",
       "    <tr>\n",
       "      <th>14985</th>\n",
       "      <td>25</td>\n",
       "      <td>6.0</td>\n",
       "      <td>40</td>\n",
       "      <td>Machine-op-inspct</td>\n",
       "      <td>0</td>\n",
       "      <td>0.0</td>\n",
       "      <td>0.0</td>\n",
       "      <td>0.0</td>\n",
       "      <td>0.0</td>\n",
       "      <td>0.0</td>\n",
       "      <td>1.0</td>\n",
       "      <td>0.0</td>\n",
       "    </tr>\n",
       "    <tr>\n",
       "      <th>14986</th>\n",
       "      <td>50</td>\n",
       "      <td>7.0</td>\n",
       "      <td>40</td>\n",
       "      <td>Other-service</td>\n",
       "      <td>0</td>\n",
       "      <td>0.0</td>\n",
       "      <td>0.0</td>\n",
       "      <td>1.0</td>\n",
       "      <td>0.0</td>\n",
       "      <td>0.0</td>\n",
       "      <td>0.0</td>\n",
       "      <td>0.0</td>\n",
       "    </tr>\n",
       "    <tr>\n",
       "      <th>14987</th>\n",
       "      <td>23</td>\n",
       "      <td>10.0</td>\n",
       "      <td>45</td>\n",
       "      <td>Prof-specialty</td>\n",
       "      <td>0</td>\n",
       "      <td>0.0</td>\n",
       "      <td>0.0</td>\n",
       "      <td>1.0</td>\n",
       "      <td>0.0</td>\n",
       "      <td>0.0</td>\n",
       "      <td>0.0</td>\n",
       "      <td>0.0</td>\n",
       "    </tr>\n",
       "  </tbody>\n",
       "</table>\n",
       "<p>13811 rows × 12 columns</p>\n",
       "</div>"
      ],
      "text/plain": [
       "       age  education-num  hours-per-week          occupation  salary  \\\n",
       "0       30            9.0              40               Sales       0   \n",
       "2       44           12.0              50      Prof-specialty       0   \n",
       "3       53           10.0              50        Adm-clerical       1   \n",
       "4       41           10.0              40    Transport-moving       1   \n",
       "5       50           14.0              50      Prof-specialty       1   \n",
       "...    ...            ...             ...                 ...     ...   \n",
       "14983   48           13.0              40      Prof-specialty       0   \n",
       "14984   40           14.0              40     Exec-managerial       0   \n",
       "14985   25            6.0              40   Machine-op-inspct       0   \n",
       "14986   50            7.0              40       Other-service       0   \n",
       "14987   23           10.0              45      Prof-specialty       0   \n",
       "\n",
       "       workclass0  workclass1  workclass2  workclass3  workclass4  workclass5  \\\n",
       "0             0.0         0.0         1.0         0.0         0.0         0.0   \n",
       "2             0.0         0.0         1.0         0.0         0.0         0.0   \n",
       "3             1.0         0.0         0.0         0.0         0.0         0.0   \n",
       "4             0.0         0.0         1.0         0.0         0.0         0.0   \n",
       "5             0.0         1.0         0.0         0.0         0.0         0.0   \n",
       "...           ...         ...         ...         ...         ...         ...   \n",
       "14983         0.0         0.0         1.0         0.0         0.0         0.0   \n",
       "14984         0.0         0.0         0.0         0.0         0.0         1.0   \n",
       "14985         0.0         0.0         0.0         0.0         0.0         1.0   \n",
       "14986         0.0         0.0         1.0         0.0         0.0         0.0   \n",
       "14987         0.0         0.0         1.0         0.0         0.0         0.0   \n",
       "\n",
       "       workclass6  \n",
       "0             0.0  \n",
       "2             0.0  \n",
       "3             0.0  \n",
       "4             0.0  \n",
       "5             0.0  \n",
       "...           ...  \n",
       "14983         0.0  \n",
       "14984         0.0  \n",
       "14985         0.0  \n",
       "14986         0.0  \n",
       "14987         0.0  \n",
       "\n",
       "[13811 rows x 12 columns]"
      ]
     },
     "execution_count": 183,
     "metadata": {},
     "output_type": "execute_result"
    }
   ],
   "source": [
    "#Thus we only need to pre-process workclass and occupation.\n",
    "#Preprocessing of workclass\n",
    "encoder = preprocessing.OneHotEncoder()\n",
    "workclass = encoder.fit_transform(X_train['workclass'].to_numpy().reshape(-1, 1)).toarray()\n",
    "workclass_columns = ['workclass0', 'workclass1', 'workclass2', 'workclass3', 'workclass4', 'workclass5', 'workclass6']\n",
    "workclass_df = pd.DataFrame(workclass, columns = workclass_columns)\n",
    "X_train_encoded = X_train.copy()\n",
    "X_train_encoded.drop(columns = ['workclass'], inplace = True)\n",
    "X_train_encoded = pd.concat([X_train_encoded, workclass_df], axis = 1, join = 'inner')\n",
    "\n",
    "workclass_test = encoder.fit_transform(X_test['workclass'].to_numpy().reshape(-1, 1)).toarray()\n",
    "workclass_df_test = pd.DataFrame(workclass_test, columns = workclass_columns)\n",
    "X_test.drop(columns = ['workclass'], inplace = True)\n",
    "X_test = pd.concat([X_test, workclass_df_test], axis = 1, join = 'inner')\n",
    "\n",
    "X_train_encoded"
   ]
  },
  {
   "cell_type": "code",
   "execution_count": 184,
   "metadata": {},
   "outputs": [
    {
     "data": {
      "text/html": [
       "<div>\n",
       "<style scoped>\n",
       "    .dataframe tbody tr th:only-of-type {\n",
       "        vertical-align: middle;\n",
       "    }\n",
       "\n",
       "    .dataframe tbody tr th {\n",
       "        vertical-align: top;\n",
       "    }\n",
       "\n",
       "    .dataframe thead th {\n",
       "        text-align: right;\n",
       "    }\n",
       "</style>\n",
       "<table border=\"1\" class=\"dataframe\">\n",
       "  <thead>\n",
       "    <tr style=\"text-align: right;\">\n",
       "      <th></th>\n",
       "      <th>age</th>\n",
       "      <th>education-num</th>\n",
       "      <th>hours-per-week</th>\n",
       "      <th>salary</th>\n",
       "      <th>workclass0</th>\n",
       "      <th>workclass1</th>\n",
       "      <th>workclass2</th>\n",
       "      <th>workclass3</th>\n",
       "      <th>workclass4</th>\n",
       "      <th>workclass5</th>\n",
       "      <th>...</th>\n",
       "      <th>occupation4</th>\n",
       "      <th>occupation5</th>\n",
       "      <th>occupation6</th>\n",
       "      <th>occupation7</th>\n",
       "      <th>occupation8</th>\n",
       "      <th>occupation9</th>\n",
       "      <th>occupation10</th>\n",
       "      <th>occupation11</th>\n",
       "      <th>occupation12</th>\n",
       "      <th>occupation13</th>\n",
       "    </tr>\n",
       "  </thead>\n",
       "  <tbody>\n",
       "    <tr>\n",
       "      <th>0</th>\n",
       "      <td>30</td>\n",
       "      <td>9.0</td>\n",
       "      <td>40</td>\n",
       "      <td>0</td>\n",
       "      <td>0.0</td>\n",
       "      <td>0.0</td>\n",
       "      <td>1.0</td>\n",
       "      <td>0.0</td>\n",
       "      <td>0.0</td>\n",
       "      <td>0.0</td>\n",
       "      <td>...</td>\n",
       "      <td>0.0</td>\n",
       "      <td>0.0</td>\n",
       "      <td>0.0</td>\n",
       "      <td>0.0</td>\n",
       "      <td>0.0</td>\n",
       "      <td>0.0</td>\n",
       "      <td>0.0</td>\n",
       "      <td>1.0</td>\n",
       "      <td>0.0</td>\n",
       "      <td>0.0</td>\n",
       "    </tr>\n",
       "    <tr>\n",
       "      <th>1</th>\n",
       "      <td>44</td>\n",
       "      <td>12.0</td>\n",
       "      <td>50</td>\n",
       "      <td>0</td>\n",
       "      <td>0.0</td>\n",
       "      <td>0.0</td>\n",
       "      <td>1.0</td>\n",
       "      <td>0.0</td>\n",
       "      <td>0.0</td>\n",
       "      <td>0.0</td>\n",
       "      <td>...</td>\n",
       "      <td>0.0</td>\n",
       "      <td>0.0</td>\n",
       "      <td>0.0</td>\n",
       "      <td>0.0</td>\n",
       "      <td>0.0</td>\n",
       "      <td>0.0</td>\n",
       "      <td>0.0</td>\n",
       "      <td>0.0</td>\n",
       "      <td>0.0</td>\n",
       "      <td>0.0</td>\n",
       "    </tr>\n",
       "    <tr>\n",
       "      <th>2</th>\n",
       "      <td>53</td>\n",
       "      <td>10.0</td>\n",
       "      <td>50</td>\n",
       "      <td>1</td>\n",
       "      <td>1.0</td>\n",
       "      <td>0.0</td>\n",
       "      <td>0.0</td>\n",
       "      <td>0.0</td>\n",
       "      <td>0.0</td>\n",
       "      <td>0.0</td>\n",
       "      <td>...</td>\n",
       "      <td>0.0</td>\n",
       "      <td>0.0</td>\n",
       "      <td>0.0</td>\n",
       "      <td>0.0</td>\n",
       "      <td>0.0</td>\n",
       "      <td>0.0</td>\n",
       "      <td>0.0</td>\n",
       "      <td>0.0</td>\n",
       "      <td>0.0</td>\n",
       "      <td>1.0</td>\n",
       "    </tr>\n",
       "    <tr>\n",
       "      <th>3</th>\n",
       "      <td>41</td>\n",
       "      <td>10.0</td>\n",
       "      <td>40</td>\n",
       "      <td>1</td>\n",
       "      <td>0.0</td>\n",
       "      <td>0.0</td>\n",
       "      <td>1.0</td>\n",
       "      <td>0.0</td>\n",
       "      <td>0.0</td>\n",
       "      <td>0.0</td>\n",
       "      <td>...</td>\n",
       "      <td>0.0</td>\n",
       "      <td>0.0</td>\n",
       "      <td>0.0</td>\n",
       "      <td>0.0</td>\n",
       "      <td>0.0</td>\n",
       "      <td>1.0</td>\n",
       "      <td>0.0</td>\n",
       "      <td>0.0</td>\n",
       "      <td>0.0</td>\n",
       "      <td>0.0</td>\n",
       "    </tr>\n",
       "    <tr>\n",
       "      <th>4</th>\n",
       "      <td>50</td>\n",
       "      <td>14.0</td>\n",
       "      <td>50</td>\n",
       "      <td>1</td>\n",
       "      <td>0.0</td>\n",
       "      <td>1.0</td>\n",
       "      <td>0.0</td>\n",
       "      <td>0.0</td>\n",
       "      <td>0.0</td>\n",
       "      <td>0.0</td>\n",
       "      <td>...</td>\n",
       "      <td>0.0</td>\n",
       "      <td>0.0</td>\n",
       "      <td>0.0</td>\n",
       "      <td>0.0</td>\n",
       "      <td>0.0</td>\n",
       "      <td>1.0</td>\n",
       "      <td>0.0</td>\n",
       "      <td>0.0</td>\n",
       "      <td>0.0</td>\n",
       "      <td>0.0</td>\n",
       "    </tr>\n",
       "    <tr>\n",
       "      <th>...</th>\n",
       "      <td>...</td>\n",
       "      <td>...</td>\n",
       "      <td>...</td>\n",
       "      <td>...</td>\n",
       "      <td>...</td>\n",
       "      <td>...</td>\n",
       "      <td>...</td>\n",
       "      <td>...</td>\n",
       "      <td>...</td>\n",
       "      <td>...</td>\n",
       "      <td>...</td>\n",
       "      <td>...</td>\n",
       "      <td>...</td>\n",
       "      <td>...</td>\n",
       "      <td>...</td>\n",
       "      <td>...</td>\n",
       "      <td>...</td>\n",
       "      <td>...</td>\n",
       "      <td>...</td>\n",
       "      <td>...</td>\n",
       "      <td>...</td>\n",
       "    </tr>\n",
       "    <tr>\n",
       "      <th>13806</th>\n",
       "      <td>48</td>\n",
       "      <td>13.0</td>\n",
       "      <td>40</td>\n",
       "      <td>0</td>\n",
       "      <td>0.0</td>\n",
       "      <td>0.0</td>\n",
       "      <td>1.0</td>\n",
       "      <td>0.0</td>\n",
       "      <td>0.0</td>\n",
       "      <td>0.0</td>\n",
       "      <td>...</td>\n",
       "      <td>0.0</td>\n",
       "      <td>0.0</td>\n",
       "      <td>0.0</td>\n",
       "      <td>0.0</td>\n",
       "      <td>0.0</td>\n",
       "      <td>0.0</td>\n",
       "      <td>0.0</td>\n",
       "      <td>0.0</td>\n",
       "      <td>0.0</td>\n",
       "      <td>1.0</td>\n",
       "    </tr>\n",
       "    <tr>\n",
       "      <th>13807</th>\n",
       "      <td>40</td>\n",
       "      <td>14.0</td>\n",
       "      <td>40</td>\n",
       "      <td>0</td>\n",
       "      <td>0.0</td>\n",
       "      <td>0.0</td>\n",
       "      <td>0.0</td>\n",
       "      <td>0.0</td>\n",
       "      <td>0.0</td>\n",
       "      <td>1.0</td>\n",
       "      <td>...</td>\n",
       "      <td>0.0</td>\n",
       "      <td>0.0</td>\n",
       "      <td>0.0</td>\n",
       "      <td>0.0</td>\n",
       "      <td>0.0</td>\n",
       "      <td>1.0</td>\n",
       "      <td>0.0</td>\n",
       "      <td>0.0</td>\n",
       "      <td>0.0</td>\n",
       "      <td>0.0</td>\n",
       "    </tr>\n",
       "    <tr>\n",
       "      <th>13808</th>\n",
       "      <td>25</td>\n",
       "      <td>6.0</td>\n",
       "      <td>40</td>\n",
       "      <td>0</td>\n",
       "      <td>0.0</td>\n",
       "      <td>0.0</td>\n",
       "      <td>0.0</td>\n",
       "      <td>0.0</td>\n",
       "      <td>0.0</td>\n",
       "      <td>1.0</td>\n",
       "      <td>...</td>\n",
       "      <td>0.0</td>\n",
       "      <td>0.0</td>\n",
       "      <td>0.0</td>\n",
       "      <td>0.0</td>\n",
       "      <td>0.0</td>\n",
       "      <td>0.0</td>\n",
       "      <td>0.0</td>\n",
       "      <td>0.0</td>\n",
       "      <td>0.0</td>\n",
       "      <td>0.0</td>\n",
       "    </tr>\n",
       "    <tr>\n",
       "      <th>13809</th>\n",
       "      <td>50</td>\n",
       "      <td>7.0</td>\n",
       "      <td>40</td>\n",
       "      <td>0</td>\n",
       "      <td>0.0</td>\n",
       "      <td>0.0</td>\n",
       "      <td>1.0</td>\n",
       "      <td>0.0</td>\n",
       "      <td>0.0</td>\n",
       "      <td>0.0</td>\n",
       "      <td>...</td>\n",
       "      <td>0.0</td>\n",
       "      <td>0.0</td>\n",
       "      <td>1.0</td>\n",
       "      <td>0.0</td>\n",
       "      <td>0.0</td>\n",
       "      <td>0.0</td>\n",
       "      <td>0.0</td>\n",
       "      <td>0.0</td>\n",
       "      <td>0.0</td>\n",
       "      <td>0.0</td>\n",
       "    </tr>\n",
       "    <tr>\n",
       "      <th>13810</th>\n",
       "      <td>23</td>\n",
       "      <td>10.0</td>\n",
       "      <td>45</td>\n",
       "      <td>0</td>\n",
       "      <td>0.0</td>\n",
       "      <td>0.0</td>\n",
       "      <td>1.0</td>\n",
       "      <td>0.0</td>\n",
       "      <td>0.0</td>\n",
       "      <td>0.0</td>\n",
       "      <td>...</td>\n",
       "      <td>0.0</td>\n",
       "      <td>0.0</td>\n",
       "      <td>0.0</td>\n",
       "      <td>0.0</td>\n",
       "      <td>0.0</td>\n",
       "      <td>0.0</td>\n",
       "      <td>0.0</td>\n",
       "      <td>0.0</td>\n",
       "      <td>0.0</td>\n",
       "      <td>1.0</td>\n",
       "    </tr>\n",
       "  </tbody>\n",
       "</table>\n",
       "<p>13811 rows × 25 columns</p>\n",
       "</div>"
      ],
      "text/plain": [
       "       age  education-num  hours-per-week  salary  workclass0  workclass1  \\\n",
       "0       30            9.0              40       0         0.0         0.0   \n",
       "1       44           12.0              50       0         0.0         0.0   \n",
       "2       53           10.0              50       1         1.0         0.0   \n",
       "3       41           10.0              40       1         0.0         0.0   \n",
       "4       50           14.0              50       1         0.0         1.0   \n",
       "...    ...            ...             ...     ...         ...         ...   \n",
       "13806   48           13.0              40       0         0.0         0.0   \n",
       "13807   40           14.0              40       0         0.0         0.0   \n",
       "13808   25            6.0              40       0         0.0         0.0   \n",
       "13809   50            7.0              40       0         0.0         0.0   \n",
       "13810   23           10.0              45       0         0.0         0.0   \n",
       "\n",
       "       workclass2  workclass3  workclass4  workclass5  ...  occupation4  \\\n",
       "0             1.0         0.0         0.0         0.0  ...          0.0   \n",
       "1             1.0         0.0         0.0         0.0  ...          0.0   \n",
       "2             0.0         0.0         0.0         0.0  ...          0.0   \n",
       "3             1.0         0.0         0.0         0.0  ...          0.0   \n",
       "4             0.0         0.0         0.0         0.0  ...          0.0   \n",
       "...           ...         ...         ...         ...  ...          ...   \n",
       "13806         1.0         0.0         0.0         0.0  ...          0.0   \n",
       "13807         0.0         0.0         0.0         1.0  ...          0.0   \n",
       "13808         0.0         0.0         0.0         1.0  ...          0.0   \n",
       "13809         1.0         0.0         0.0         0.0  ...          0.0   \n",
       "13810         1.0         0.0         0.0         0.0  ...          0.0   \n",
       "\n",
       "       occupation5  occupation6  occupation7  occupation8  occupation9  \\\n",
       "0              0.0          0.0          0.0          0.0          0.0   \n",
       "1              0.0          0.0          0.0          0.0          0.0   \n",
       "2              0.0          0.0          0.0          0.0          0.0   \n",
       "3              0.0          0.0          0.0          0.0          1.0   \n",
       "4              0.0          0.0          0.0          0.0          1.0   \n",
       "...            ...          ...          ...          ...          ...   \n",
       "13806          0.0          0.0          0.0          0.0          0.0   \n",
       "13807          0.0          0.0          0.0          0.0          1.0   \n",
       "13808          0.0          0.0          0.0          0.0          0.0   \n",
       "13809          0.0          1.0          0.0          0.0          0.0   \n",
       "13810          0.0          0.0          0.0          0.0          0.0   \n",
       "\n",
       "       occupation10  occupation11  occupation12  occupation13  \n",
       "0               0.0           1.0           0.0           0.0  \n",
       "1               0.0           0.0           0.0           0.0  \n",
       "2               0.0           0.0           0.0           1.0  \n",
       "3               0.0           0.0           0.0           0.0  \n",
       "4               0.0           0.0           0.0           0.0  \n",
       "...             ...           ...           ...           ...  \n",
       "13806           0.0           0.0           0.0           1.0  \n",
       "13807           0.0           0.0           0.0           0.0  \n",
       "13808           0.0           0.0           0.0           0.0  \n",
       "13809           0.0           0.0           0.0           0.0  \n",
       "13810           0.0           0.0           0.0           1.0  \n",
       "\n",
       "[13811 rows x 25 columns]"
      ]
     },
     "execution_count": 184,
     "metadata": {},
     "output_type": "execute_result"
    }
   ],
   "source": [
    "#Preprocessing of occupation\n",
    "occupation = encoder.fit_transform(X_train['occupation'].to_numpy().reshape(-1, 1)).toarray()\n",
    "occupation_columns = []\n",
    "for i in range(occupation.shape[1]):\n",
    "    occupation_columns.append(\"occupation\" + str(i))\n",
    "occupation_df = pd.DataFrame(occupation, columns = occupation_columns)\n",
    "X_train_encoded.drop(columns = 'occupation', inplace = True)\n",
    "X_train_encoded = pd.concat([X_train_encoded, occupation_df], axis = 1, join = 'inner')\n",
    "X_train_encoded.reset_index(drop = True, inplace = True)\n",
    "\n",
    "occupation_test = encoder.fit_transform(X_test['occupation'].to_numpy().reshape(-1, 1)).toarray()\n",
    "occupation_df_test = pd.DataFrame(occupation_test, columns = occupation_columns)\n",
    "X_test.drop(columns = 'occupation', inplace = True)\n",
    "X_test = pd.concat([X_test, occupation_df_test], axis = 1, join = 'inner')\n",
    "X_test.reset_index(drop = True, inplace = True)\n",
    "\n",
    "X_train_encoded"
   ]
  },
  {
   "cell_type": "markdown",
   "metadata": {},
   "source": [
    "### Question 3"
   ]
  },
  {
   "cell_type": "code",
   "execution_count": 185,
   "metadata": {},
   "outputs": [
    {
     "data": {
      "text/plain": [
       "<AxesSubplot:>"
      ]
     },
     "execution_count": 185,
     "metadata": {},
     "output_type": "execute_result"
    },
    {
     "data": {
      "image/png": "[encoded data removed]",
      "text/plain": [
       "<Figure size 1440x720 with 1 Axes>"
      ]
     },
     "metadata": {
      "needs_background": "light"
     },
     "output_type": "display_data"
    }
   ],
   "source": [
    "# TODO\n",
    "#Here I standardize the dataset\n",
    "X_train.boxplot(figsize = (20, 10))"
   ]
  },
  {
   "cell_type": "code",
   "execution_count": 186,
   "metadata": {},
   "outputs": [
    {
     "data": {
      "text/html": [
       "<div>\n",
       "<style scoped>\n",
       "    .dataframe tbody tr th:only-of-type {\n",
       "        vertical-align: middle;\n",
       "    }\n",
       "\n",
       "    .dataframe tbody tr th {\n",
       "        vertical-align: top;\n",
       "    }\n",
       "\n",
       "    .dataframe thead th {\n",
       "        text-align: right;\n",
       "    }\n",
       "</style>\n",
       "<table border=\"1\" class=\"dataframe\">\n",
       "  <thead>\n",
       "    <tr style=\"text-align: right;\">\n",
       "      <th></th>\n",
       "      <th>age</th>\n",
       "      <th>education-num</th>\n",
       "      <th>hours-per-week</th>\n",
       "      <th>salary</th>\n",
       "      <th>workclass0</th>\n",
       "      <th>workclass1</th>\n",
       "      <th>workclass2</th>\n",
       "      <th>workclass3</th>\n",
       "      <th>workclass4</th>\n",
       "      <th>workclass5</th>\n",
       "      <th>...</th>\n",
       "      <th>occupation4</th>\n",
       "      <th>occupation5</th>\n",
       "      <th>occupation6</th>\n",
       "      <th>occupation7</th>\n",
       "      <th>occupation8</th>\n",
       "      <th>occupation9</th>\n",
       "      <th>occupation10</th>\n",
       "      <th>occupation11</th>\n",
       "      <th>occupation12</th>\n",
       "      <th>occupation13</th>\n",
       "    </tr>\n",
       "  </thead>\n",
       "  <tbody>\n",
       "    <tr>\n",
       "      <th>0</th>\n",
       "      <td>-0.368421</td>\n",
       "      <td>-0.25</td>\n",
       "      <td>0.0</td>\n",
       "      <td>0</td>\n",
       "      <td>0.0</td>\n",
       "      <td>0.0</td>\n",
       "      <td>1.0</td>\n",
       "      <td>0.0</td>\n",
       "      <td>0.0</td>\n",
       "      <td>0.0</td>\n",
       "      <td>...</td>\n",
       "      <td>0.0</td>\n",
       "      <td>0.0</td>\n",
       "      <td>0.0</td>\n",
       "      <td>0.0</td>\n",
       "      <td>0.0</td>\n",
       "      <td>0.0</td>\n",
       "      <td>0.0</td>\n",
       "      <td>1.0</td>\n",
       "      <td>0.0</td>\n",
       "      <td>0.0</td>\n",
       "    </tr>\n",
       "    <tr>\n",
       "      <th>1</th>\n",
       "      <td>0.368421</td>\n",
       "      <td>0.50</td>\n",
       "      <td>2.0</td>\n",
       "      <td>0</td>\n",
       "      <td>0.0</td>\n",
       "      <td>0.0</td>\n",
       "      <td>1.0</td>\n",
       "      <td>0.0</td>\n",
       "      <td>0.0</td>\n",
       "      <td>0.0</td>\n",
       "      <td>...</td>\n",
       "      <td>0.0</td>\n",
       "      <td>0.0</td>\n",
       "      <td>0.0</td>\n",
       "      <td>0.0</td>\n",
       "      <td>0.0</td>\n",
       "      <td>0.0</td>\n",
       "      <td>0.0</td>\n",
       "      <td>0.0</td>\n",
       "      <td>0.0</td>\n",
       "      <td>0.0</td>\n",
       "    </tr>\n",
       "    <tr>\n",
       "      <th>2</th>\n",
       "      <td>0.842105</td>\n",
       "      <td>0.00</td>\n",
       "      <td>2.0</td>\n",
       "      <td>1</td>\n",
       "      <td>1.0</td>\n",
       "      <td>0.0</td>\n",
       "      <td>0.0</td>\n",
       "      <td>0.0</td>\n",
       "      <td>0.0</td>\n",
       "      <td>0.0</td>\n",
       "      <td>...</td>\n",
       "      <td>0.0</td>\n",
       "      <td>0.0</td>\n",
       "      <td>0.0</td>\n",
       "      <td>0.0</td>\n",
       "      <td>0.0</td>\n",
       "      <td>0.0</td>\n",
       "      <td>0.0</td>\n",
       "      <td>0.0</td>\n",
       "      <td>0.0</td>\n",
       "      <td>1.0</td>\n",
       "    </tr>\n",
       "    <tr>\n",
       "      <th>3</th>\n",
       "      <td>0.210526</td>\n",
       "      <td>0.00</td>\n",
       "      <td>0.0</td>\n",
       "      <td>1</td>\n",
       "      <td>0.0</td>\n",
       "      <td>0.0</td>\n",
       "      <td>1.0</td>\n",
       "      <td>0.0</td>\n",
       "      <td>0.0</td>\n",
       "      <td>0.0</td>\n",
       "      <td>...</td>\n",
       "      <td>0.0</td>\n",
       "      <td>0.0</td>\n",
       "      <td>0.0</td>\n",
       "      <td>0.0</td>\n",
       "      <td>0.0</td>\n",
       "      <td>1.0</td>\n",
       "      <td>0.0</td>\n",
       "      <td>0.0</td>\n",
       "      <td>0.0</td>\n",
       "      <td>0.0</td>\n",
       "    </tr>\n",
       "    <tr>\n",
       "      <th>4</th>\n",
       "      <td>0.684211</td>\n",
       "      <td>1.00</td>\n",
       "      <td>2.0</td>\n",
       "      <td>1</td>\n",
       "      <td>0.0</td>\n",
       "      <td>1.0</td>\n",
       "      <td>0.0</td>\n",
       "      <td>0.0</td>\n",
       "      <td>0.0</td>\n",
       "      <td>0.0</td>\n",
       "      <td>...</td>\n",
       "      <td>0.0</td>\n",
       "      <td>0.0</td>\n",
       "      <td>0.0</td>\n",
       "      <td>0.0</td>\n",
       "      <td>0.0</td>\n",
       "      <td>1.0</td>\n",
       "      <td>0.0</td>\n",
       "      <td>0.0</td>\n",
       "      <td>0.0</td>\n",
       "      <td>0.0</td>\n",
       "    </tr>\n",
       "    <tr>\n",
       "      <th>...</th>\n",
       "      <td>...</td>\n",
       "      <td>...</td>\n",
       "      <td>...</td>\n",
       "      <td>...</td>\n",
       "      <td>...</td>\n",
       "      <td>...</td>\n",
       "      <td>...</td>\n",
       "      <td>...</td>\n",
       "      <td>...</td>\n",
       "      <td>...</td>\n",
       "      <td>...</td>\n",
       "      <td>...</td>\n",
       "      <td>...</td>\n",
       "      <td>...</td>\n",
       "      <td>...</td>\n",
       "      <td>...</td>\n",
       "      <td>...</td>\n",
       "      <td>...</td>\n",
       "      <td>...</td>\n",
       "      <td>...</td>\n",
       "      <td>...</td>\n",
       "    </tr>\n",
       "    <tr>\n",
       "      <th>13806</th>\n",
       "      <td>0.578947</td>\n",
       "      <td>0.75</td>\n",
       "      <td>0.0</td>\n",
       "      <td>0</td>\n",
       "      <td>0.0</td>\n",
       "      <td>0.0</td>\n",
       "      <td>1.0</td>\n",
       "      <td>0.0</td>\n",
       "      <td>0.0</td>\n",
       "      <td>0.0</td>\n",
       "      <td>...</td>\n",
       "      <td>0.0</td>\n",
       "      <td>0.0</td>\n",
       "      <td>0.0</td>\n",
       "      <td>0.0</td>\n",
       "      <td>0.0</td>\n",
       "      <td>0.0</td>\n",
       "      <td>0.0</td>\n",
       "      <td>0.0</td>\n",
       "      <td>0.0</td>\n",
       "      <td>1.0</td>\n",
       "    </tr>\n",
       "    <tr>\n",
       "      <th>13807</th>\n",
       "      <td>0.157895</td>\n",
       "      <td>1.00</td>\n",
       "      <td>0.0</td>\n",
       "      <td>0</td>\n",
       "      <td>0.0</td>\n",
       "      <td>0.0</td>\n",
       "      <td>0.0</td>\n",
       "      <td>0.0</td>\n",
       "      <td>0.0</td>\n",
       "      <td>1.0</td>\n",
       "      <td>...</td>\n",
       "      <td>0.0</td>\n",
       "      <td>0.0</td>\n",
       "      <td>0.0</td>\n",
       "      <td>0.0</td>\n",
       "      <td>0.0</td>\n",
       "      <td>1.0</td>\n",
       "      <td>0.0</td>\n",
       "      <td>0.0</td>\n",
       "      <td>0.0</td>\n",
       "      <td>0.0</td>\n",
       "    </tr>\n",
       "    <tr>\n",
       "      <th>13808</th>\n",
       "      <td>-0.631579</td>\n",
       "      <td>-1.00</td>\n",
       "      <td>0.0</td>\n",
       "      <td>0</td>\n",
       "      <td>0.0</td>\n",
       "      <td>0.0</td>\n",
       "      <td>0.0</td>\n",
       "      <td>0.0</td>\n",
       "      <td>0.0</td>\n",
       "      <td>1.0</td>\n",
       "      <td>...</td>\n",
       "      <td>0.0</td>\n",
       "      <td>0.0</td>\n",
       "      <td>0.0</td>\n",
       "      <td>0.0</td>\n",
       "      <td>0.0</td>\n",
       "      <td>0.0</td>\n",
       "      <td>0.0</td>\n",
       "      <td>0.0</td>\n",
       "      <td>0.0</td>\n",
       "      <td>0.0</td>\n",
       "    </tr>\n",
       "    <tr>\n",
       "      <th>13809</th>\n",
       "      <td>0.684211</td>\n",
       "      <td>-0.75</td>\n",
       "      <td>0.0</td>\n",
       "      <td>0</td>\n",
       "      <td>0.0</td>\n",
       "      <td>0.0</td>\n",
       "      <td>1.0</td>\n",
       "      <td>0.0</td>\n",
       "      <td>0.0</td>\n",
       "      <td>0.0</td>\n",
       "      <td>...</td>\n",
       "      <td>0.0</td>\n",
       "      <td>0.0</td>\n",
       "      <td>1.0</td>\n",
       "      <td>0.0</td>\n",
       "      <td>0.0</td>\n",
       "      <td>0.0</td>\n",
       "      <td>0.0</td>\n",
       "      <td>0.0</td>\n",
       "      <td>0.0</td>\n",
       "      <td>0.0</td>\n",
       "    </tr>\n",
       "    <tr>\n",
       "      <th>13810</th>\n",
       "      <td>-0.736842</td>\n",
       "      <td>0.00</td>\n",
       "      <td>1.0</td>\n",
       "      <td>0</td>\n",
       "      <td>0.0</td>\n",
       "      <td>0.0</td>\n",
       "      <td>1.0</td>\n",
       "      <td>0.0</td>\n",
       "      <td>0.0</td>\n",
       "      <td>0.0</td>\n",
       "      <td>...</td>\n",
       "      <td>0.0</td>\n",
       "      <td>0.0</td>\n",
       "      <td>0.0</td>\n",
       "      <td>0.0</td>\n",
       "      <td>0.0</td>\n",
       "      <td>0.0</td>\n",
       "      <td>0.0</td>\n",
       "      <td>0.0</td>\n",
       "      <td>0.0</td>\n",
       "      <td>1.0</td>\n",
       "    </tr>\n",
       "  </tbody>\n",
       "</table>\n",
       "<p>13811 rows × 25 columns</p>\n",
       "</div>"
      ],
      "text/plain": [
       "            age  education-num  hours-per-week  salary  workclass0  \\\n",
       "0     -0.368421          -0.25             0.0       0         0.0   \n",
       "1      0.368421           0.50             2.0       0         0.0   \n",
       "2      0.842105           0.00             2.0       1         1.0   \n",
       "3      0.210526           0.00             0.0       1         0.0   \n",
       "4      0.684211           1.00             2.0       1         0.0   \n",
       "...         ...            ...             ...     ...         ...   \n",
       "13806  0.578947           0.75             0.0       0         0.0   \n",
       "13807  0.157895           1.00             0.0       0         0.0   \n",
       "13808 -0.631579          -1.00             0.0       0         0.0   \n",
       "13809  0.684211          -0.75             0.0       0         0.0   \n",
       "13810 -0.736842           0.00             1.0       0         0.0   \n",
       "\n",
       "       workclass1  workclass2  workclass3  workclass4  workclass5  ...  \\\n",
       "0             0.0         1.0         0.0         0.0         0.0  ...   \n",
       "1             0.0         1.0         0.0         0.0         0.0  ...   \n",
       "2             0.0         0.0         0.0         0.0         0.0  ...   \n",
       "3             0.0         1.0         0.0         0.0         0.0  ...   \n",
       "4             1.0         0.0         0.0         0.0         0.0  ...   \n",
       "...           ...         ...         ...         ...         ...  ...   \n",
       "13806         0.0         1.0         0.0         0.0         0.0  ...   \n",
       "13807         0.0         0.0         0.0         0.0         1.0  ...   \n",
       "13808         0.0         0.0         0.0         0.0         1.0  ...   \n",
       "13809         0.0         1.0         0.0         0.0         0.0  ...   \n",
       "13810         0.0         1.0         0.0         0.0         0.0  ...   \n",
       "\n",
       "       occupation4  occupation5  occupation6  occupation7  occupation8  \\\n",
       "0              0.0          0.0          0.0          0.0          0.0   \n",
       "1              0.0          0.0          0.0          0.0          0.0   \n",
       "2              0.0          0.0          0.0          0.0          0.0   \n",
       "3              0.0          0.0          0.0          0.0          0.0   \n",
       "4              0.0          0.0          0.0          0.0          0.0   \n",
       "...            ...          ...          ...          ...          ...   \n",
       "13806          0.0          0.0          0.0          0.0          0.0   \n",
       "13807          0.0          0.0          0.0          0.0          0.0   \n",
       "13808          0.0          0.0          0.0          0.0          0.0   \n",
       "13809          0.0          0.0          1.0          0.0          0.0   \n",
       "13810          0.0          0.0          0.0          0.0          0.0   \n",
       "\n",
       "       occupation9  occupation10  occupation11  occupation12  occupation13  \n",
       "0              0.0           0.0           1.0           0.0           0.0  \n",
       "1              0.0           0.0           0.0           0.0           0.0  \n",
       "2              0.0           0.0           0.0           0.0           1.0  \n",
       "3              1.0           0.0           0.0           0.0           0.0  \n",
       "4              1.0           0.0           0.0           0.0           0.0  \n",
       "...            ...           ...           ...           ...           ...  \n",
       "13806          0.0           0.0           0.0           0.0           1.0  \n",
       "13807          1.0           0.0           0.0           0.0           0.0  \n",
       "13808          0.0           0.0           0.0           0.0           0.0  \n",
       "13809          0.0           0.0           0.0           0.0           0.0  \n",
       "13810          0.0           0.0           0.0           0.0           1.0  \n",
       "\n",
       "[13811 rows x 25 columns]"
      ]
     },
     "execution_count": 186,
     "metadata": {},
     "output_type": "execute_result"
    }
   ],
   "source": [
    "#As you can see, our data contains a couple of outliers for the age and a lot of outliers for hours-per-week, for this reason\n",
    "#we will use the RobustScaler for scaling our data.\n",
    "scaleColumns = ['age', 'education-num', 'hours-per-week']\n",
    "X_scaled = X_train_encoded[scaleColumns]\n",
    "scaler = preprocessing.RobustScaler()\n",
    "scaler.fit(X_scaled)\n",
    "X_scaled = pd.DataFrame(scaler.transform(X_scaled), columns = scaleColumns)\n",
    "X_train_encoded[scaleColumns] = X_scaled\n",
    "\n",
    "X_test_scaled = X_test[scaleColumns]\n",
    "scaler.fit(X_test_scaled)\n",
    "X_test_scaled = pd.DataFrame(scaler.transform(X_test_scaled), columns = scaleColumns)\n",
    "X_test[scaleColumns] = X_test_scaled\n",
    "\n",
    "X_train_encoded"
   ]
  },
  {
   "cell_type": "code",
   "execution_count": 187,
   "metadata": {},
   "outputs": [],
   "source": [
    "#Other than that, I dropped the columns that I do not use in my program. This was done before pre-processing"
   ]
  },
  {
   "cell_type": "markdown",
   "metadata": {},
   "source": [
    "## Experiments"
   ]
  },
  {
   "cell_type": "markdown",
   "metadata": {},
   "source": [
    "### Question 1"
   ]
  },
  {
   "cell_type": "code",
   "execution_count": 22,
   "metadata": {},
   "outputs": [],
   "source": [
    "# TODO\n",
    "from sklearn.model_selection import train_test_split\n",
    "#Here we do the train_test_split\n",
    "#But before we do the split, we have to separate the salary from the dataframe\n",
    "y_train_final = X_train_encoded['salary']\n",
    "X_train_final = X_train_encoded.drop(columns = ['salary'])\n",
    "\n",
    "\n",
    "train_X, test_X, train_y, test_y = train_test_split(X_train_final, y_train_final,\n",
    "                                                                test_size = 0.2, random_state = 0)"
   ]
  },
  {
   "cell_type": "code",
   "execution_count": 23,
   "metadata": {},
   "outputs": [],
   "source": [
    "#Now we create our models with the default hyper-parameters\n",
    "models = {\n",
    "    'gaussianClassifier' : GaussianNB(),\n",
    "    'knnClassifier' : KNeighborsClassifier(n_neighbors = 3, weights = \"distance\"),\n",
    "    'logisticRegressionClassifier' : LogisticRegression(C = 10, penalty = \"none\", random_state = 42),\n",
    "    'svcClassifier' : SVC(C = 10, kernel = \"poly\", random_state = 42),\n",
    "    'decisionTreeClassifier' : DecisionTreeClassifier(max_depth = None, min_samples_leaf = 2, random_state = 42)\n",
    "}"
   ]
  },
  {
   "cell_type": "markdown",
   "metadata": {},
   "source": [
    "### Question 2"
   ]
  },
  {
   "cell_type": "code",
   "execution_count": 126,
   "metadata": {},
   "outputs": [
    {
     "name": "stderr",
     "output_type": "stream",
     "text": [
      "C:\\Users\\oprea\\anaconda3\\lib\\site-packages\\sklearn\\linear_model\\_logistic.py:1322: UserWarning: Setting penalty='none' will ignore the C and l1_ratio parameters\n",
      "  warnings.warn(\n",
      "C:\\Users\\oprea\\anaconda3\\lib\\site-packages\\sklearn\\linear_model\\_logistic.py:763: ConvergenceWarning: lbfgs failed to converge (status=1):\n",
      "STOP: TOTAL NO. of ITERATIONS REACHED LIMIT.\n",
      "\n",
      "Increase the number of iterations (max_iter) or scale the data as shown in:\n",
      "    https://scikit-learn.org/stable/modules/preprocessing.html\n",
      "Please also refer to the documentation for alternative solver options:\n",
      "    https://scikit-learn.org/stable/modules/linear_model.html#logistic-regression\n",
      "  n_iter_i = _check_optimize_result(\n"
     ]
    },
    {
     "name": "stdout",
     "output_type": "stream",
     "text": [
      "[0.09652615311195145, 0.24908983256616055, 0.3707299228813516, 0.36279481277877174, 0.24211070259450038]\n"
     ]
    }
   ],
   "source": [
    "# TODO\n",
    "#Here we fit and test the data\n",
    "from sklearn.metrics import matthews_corrcoef\n",
    "from sklearn.metrics import accuracy_score\n",
    "testScores = []\n",
    "for name, model in models.items():\n",
    "    model.fit(train_X, train_y)\n",
    "    predictions = model.predict(test_X)\n",
    "    testScores.append(matthews_corrcoef(test_y, predictions))\n",
    "print(testScores)\n"
   ]
  },
  {
   "cell_type": "code",
   "execution_count": 25,
   "metadata": {},
   "outputs": [
    {
     "data": {
      "image/png": "[encoded data removed]",
      "text/plain": [
       "<Figure size 720x432 with 1 Axes>"
      ]
     },
     "metadata": {
      "needs_background": "light"
     },
     "output_type": "display_data"
    }
   ],
   "source": [
    "\n",
    "plt.figure(figsize = (10, 6))\n",
    "plt.bar(models.keys(), testScores)\n",
    "plt.title(\"MCC Score between different classifiers\")\n",
    "plt.ylabel('MCC Score')\n",
    "plt.xlabel('Classifier Name')\n",
    "plt.show()"
   ]
  },
  {
   "cell_type": "markdown",
   "metadata": {},
   "source": [
    "### Question 3"
   ]
  },
  {
   "cell_type": "code",
   "execution_count": 53,
   "metadata": {},
   "outputs": [
    {
     "data": {
      "text/plain": [
       "GridSearchCV(cv=StratifiedKFold(n_splits=10, random_state=1, shuffle=True),\n",
       "             estimator=KNeighborsClassifier(), n_jobs=-1,\n",
       "             param_grid=[{'n_neighbors': array([  1,  11,  21,  31,  41,  51,  61,  71,  81,  91, 101, 111, 121,\n",
       "       131, 141]),\n",
       "                          'weights': ['distance']},\n",
       "                         {'n_neighbors': array([  1,  11,  21,  31,  41,  51,  61,  71,  81,  91, 101, 111, 121,\n",
       "       131, 141]),\n",
       "                          'weights': ['uniform']}],\n",
       "             scoring=make_scorer(matthews_corrcoef))"
      ]
     },
     "execution_count": 53,
     "metadata": {},
     "output_type": "execute_result"
    }
   ],
   "source": [
    "from sklearn.model_selection import StratifiedKFold\n",
    "from sklearn.model_selection import GridSearchCV\n",
    "from sklearn.metrics import make_scorer\n",
    "\n",
    "# TODO\n",
    "#Since the Gaussian Classifier has not hyperparameters, we don't do hyperparameters tuning for that\n",
    "#Since we have way more people making under 50k per year than we have making over 50k per year, we will...\n",
    "#... use a stratified k-fold, such that the relative class frequencies is approximately preserved in...\n",
    "#...each train and validation fold.\n",
    "\n",
    "#Now we perform hyper-parameter tuning for k Nearest Neighbor\n",
    "\n",
    "param_grid = [{'n_neighbors' : np.arange(1, 150, 10), 'weights' : ['distance']},\n",
    "                                {'n_neighbors' : np.arange(1, 150, 10), 'weights' : ['uniform']}]\n",
    "score_function = make_scorer(matthews_corrcoef)\n",
    "\n",
    "model = KNeighborsClassifier()\n",
    "cv = StratifiedKFold(n_splits = 10, shuffle = True, random_state = 1)\n",
    "clfKnn = GridSearchCV(estimator = model, param_grid = param_grid, scoring = score_function, n_jobs = -1,\n",
    "                  cv = cv)\n",
    "clfKnn.fit(train_X, train_y)\n",
    "#scores = cross_val_score(model, train_X, train_y, scoring = 'matthews_corrcoef', cv = cv, n_jobs = -1)"
   ]
  },
  {
   "cell_type": "code",
   "execution_count": 27,
   "metadata": {
    "scrolled": false
   },
   "outputs": [
    {
     "name": "stdout",
     "output_type": "stream",
     "text": [
      "[1 11 21 31 41 51 61 71 81 91 101 111 121 131 141]\n",
      "[0.21475649 0.26904399 0.2751982  0.27434151 0.27119693 0.26774471\n",
      " 0.26477995 0.26519834 0.26351441 0.2620514  0.26109418 0.26132746\n",
      " 0.25798927 0.25354021 0.25125741]\n",
      "[1 11 21 31 41 51 61 71 81 91 101 111 121 131 141]\n",
      "[0.21475649 0.26904399 0.2751982  0.27434151 0.27119693 0.26774471\n",
      " 0.26477995 0.26519834 0.26351441 0.2620514  0.26109418 0.26132746\n",
      " 0.25798927 0.25354021 0.25125741]\n"
     ]
    },
    {
     "data": {
      "image/png": "[encoded data removed]",
      "text/plain": [
       "<Figure size 720x432 with 1 Axes>"
      ]
     },
     "metadata": {
      "needs_background": "light"
     },
     "output_type": "display_data"
    },
    {
     "name": "stdout",
     "output_type": "stream",
     "text": [
      "Best hyper-parameters are {'n_neighbors': 21, 'weights': 'uniform'}\n"
     ]
    }
   ],
   "source": [
    "\n",
    "#print(clf.cv_results_)\n",
    "params_Used_distance = clfKnn.cv_results_.get('param_n_neighbors')[:15]\n",
    "params_Used_uniform = clfKnn.cv_results_.get('param_n_neighbors')[15:]\n",
    "mean_test_scores_distance = clfKnn.cv_results_.get('mean_test_score')[:15]\n",
    "mean_test_scores_uniform = clfKnn.cv_results_.get('mean_test_score')[15:]\n",
    "print(params_Used_distance)\n",
    "print(mean_test_scores_distance)\n",
    "print(params_Used_uniform)\n",
    "print(mean_test_scores_distance)\n",
    "\n",
    "\n",
    "plt.figure(figsize = (10, 6))\n",
    "plt.plot(list(params_Used_distance), list(mean_test_scores_distance), label = 'Weights parameter set as \"distance\"')\n",
    "plt.plot(list(params_Used_uniform), list(mean_test_scores_uniform), label = 'Weights parameter set as \"uniform\"')\n",
    "#plt.plot(params_Used_distance, interpolated(params_Used_distance))\n",
    "#plt.plot([1.5, 2, 3], [1, 1, 2])\n",
    "plt.title(\"MCC Score between knn Classifier with different hyper-parameters\")\n",
    "plt.ylabel('MCC Score')\n",
    "plt.xlabel('Number of neighbors')\n",
    "plt.legend(loc = 'best')\n",
    "plt.show()\n",
    "\n",
    "print('Best hyper-parameters are', clfKnn.best_params_)"
   ]
  },
  {
   "cell_type": "code",
   "execution_count": 28,
   "metadata": {},
   "outputs": [
    {
     "data": {
      "text/plain": [
       "GridSearchCV(cv=StratifiedKFold(n_splits=10, random_state=1, shuffle=True),\n",
       "             estimator=KNeighborsClassifier(), n_jobs=-1,\n",
       "             param_grid=[{'n_neighbors': array([10, 11, 12, 13, 14, 15, 16, 17, 18, 19, 20, 21, 22, 23, 24, 25, 26,\n",
       "       27, 28, 29, 30]),\n",
       "                          'weights': ['uniform']}],\n",
       "             scoring=make_scorer(matthews_corrcoef))"
      ]
     },
     "execution_count": 28,
     "metadata": {},
     "output_type": "execute_result"
    }
   ],
   "source": [
    "#As you can see from the graph, the best 'weights' is constantly 'uniform', and the best k varies between...\n",
    "#... 11 and 31.\n",
    "#Now we do another gridSearch for values between 10 and 30.\n",
    "param_grid = [{'n_neighbors' : np.arange(10, 31), 'weights' : ['uniform']}]\n",
    "clfKnn1 = GridSearchCV(estimator = model, param_grid = param_grid, scoring = score_function , n_jobs = -1,\n",
    "                  cv = cv)\n",
    "clfKnn1.fit(train_X, train_y)"
   ]
  },
  {
   "cell_type": "code",
   "execution_count": 29,
   "metadata": {},
   "outputs": [
    {
     "data": {
      "image/png": "[encoded data removed]",
      "text/plain": [
       "<Figure size 720x432 with 1 Axes>"
      ]
     },
     "metadata": {
      "needs_background": "light"
     },
     "output_type": "display_data"
    },
    {
     "name": "stdout",
     "output_type": "stream",
     "text": [
      "Best set of hyper-parameters for knn is {'n_neighbors': 23, 'weights': 'uniform'}\n"
     ]
    }
   ],
   "source": [
    "param_Used = clfKnn1.cv_results_.get('param_n_neighbors')\n",
    "mean_test_scores = clfKnn1.cv_results_.get('mean_test_score')\n",
    "\n",
    "plt.figure(figsize = (10, 6))\n",
    "plt.plot(list(param_Used), list(mean_test_scores))\n",
    "plt.title(\"MCC Score of knn Classifier with weights = 'uniform' and different values of k\")\n",
    "plt.ylabel('MCC Score')\n",
    "plt.xlabel('Number of neighbors')\n",
    "plt.show()\n",
    "print('Best set of hyper-parameters for knn is', clfKnn1.best_params_)"
   ]
  },
  {
   "cell_type": "code",
   "execution_count": 30,
   "metadata": {},
   "outputs": [
    {
     "name": "stderr",
     "output_type": "stream",
     "text": [
      "C:\\Users\\oprea\\anaconda3\\lib\\site-packages\\sklearn\\linear_model\\_sag.py:328: ConvergenceWarning: The max_iter was reached which means the coef_ did not converge\n",
      "  warnings.warn(\"The max_iter was reached which means \"\n"
     ]
    },
    {
     "data": {
      "text/plain": [
       "GridSearchCV(cv=StratifiedKFold(n_splits=10, random_state=1, shuffle=True),\n",
       "             estimator=LogisticRegression(random_state=42, solver='saga'),\n",
       "             n_jobs=-1,\n",
       "             param_grid=[{'C': [0.001, 0.01, 0.1, 1, 10], 'penalty': ['none']},\n",
       "                         {'C': [0.001, 0.01, 0.1, 1, 10], 'penalty': ['l2']},\n",
       "                         {'C': [0.001, 0.01, 0.1, 1, 10], 'penalty': ['l1']}],\n",
       "             scoring=make_scorer(matthews_corrcoef))"
      ]
     },
     "execution_count": 30,
     "metadata": {},
     "output_type": "execute_result"
    }
   ],
   "source": [
    "#Now we perform our hyper-parameter tuning on LogisticRegression\n",
    "param_grid = [{'C' : [.001, .01, .1, 1, 10], 'penalty' : ['none']},\n",
    "              {'C' : [.001, .01, .1, 1, 10], 'penalty' : ['l2']},\n",
    "              {'C' : [.001, .01, .1, 1, 10], 'penalty' : ['l1']}]\n",
    "model = LogisticRegression(solver = 'saga', random_state = 42)\n",
    "clfLogisticRegression = GridSearchCV(estimator = model, param_grid = param_grid, scoring = score_function,\n",
    "                                   n_jobs = -1, cv = cv)\n",
    "clfLogisticRegression.fit(train_X, train_y)"
   ]
  },
  {
   "cell_type": "code",
   "execution_count": 31,
   "metadata": {},
   "outputs": [
    {
     "data": {
      "image/png": "[encoded data removed]",
      "text/plain": [
       "<Figure size 720x432 with 1 Axes>"
      ]
     },
     "metadata": {
      "needs_background": "light"
     },
     "output_type": "display_data"
    },
    {
     "name": "stdout",
     "output_type": "stream",
     "text": [
      "Best set of hyper-parameters for Logistic Regression is {'C': 1, 'penalty': 'l2'}\n"
     ]
    }
   ],
   "source": [
    "#print(clfLogisticRegression.cv_results_)\n",
    "param_Used = clfLogisticRegression.cv_results_.get('param_C')[:5]\n",
    "mean_test_scores = []\n",
    "for i in range(3):\n",
    "    mean_test_scores.append(clfLogisticRegression.cv_results_.get('mean_test_score')[5*i:(5 + 5*i)])\n",
    "\n",
    "plt.figure(figsize = (10, 6))\n",
    "plt.plot(list(mean_test_scores[0]), label = 'Penalty \"none\"')\n",
    "plt.plot(list(mean_test_scores[1]), label = 'Penalty \"l2\"')\n",
    "plt.plot(list(mean_test_scores[2]), label = 'Penalty \"l1\"')\n",
    "plt.title(\"MCC Score of Logistic Regression for different hyper-parameters\")\n",
    "plt.ylabel('MCC Score')\n",
    "plt.xlabel('Index in array \"param_Used\"')\n",
    "plt.legend(loc = 'best')\n",
    "plt.show()\n",
    "print('Best set of hyper-parameters for Logistic Regression is', clfLogisticRegression.best_params_)"
   ]
  },
  {
   "cell_type": "code",
   "execution_count": 190,
   "metadata": {},
   "outputs": [
    {
     "name": "stdout",
     "output_type": "stream",
     "text": [
      "{'mean_fit_time': array([1.26788175, 1.18116384, 1.32709863, 1.434724  , 1.28380437,\n",
      "       0.12972887, 0.14283049, 0.66412561, 1.07472632, 1.38301773,\n",
      "       0.17043653, 0.13744562, 0.16883733, 0.93250978, 1.07604234]), 'std_fit_time': array([0.46984097, 0.29555377, 0.32652661, 0.43412685, 0.25119123,\n",
      "       0.02556837, 0.02103245, 0.07484248, 0.29199601, 0.48651454,\n",
      "       0.03109115, 0.03433681, 0.02344367, 0.29196098, 0.28674106]), 'mean_score_time': array([0.01010265, 0.00410144, 0.00750151, 0.00780222, 0.00755258,\n",
      "       0.0040005 , 0.00700402, 0.01885505, 0.00360096, 0.00510137,\n",
      "       0.00380075, 0.00478585, 0.0043009 , 0.00450075, 0.00420108]), 'std_score_time': array([0.01449823, 0.00070014, 0.00988424, 0.01076177, 0.01099269,\n",
      "       0.00044686, 0.00868022, 0.02353491, 0.00049003, 0.00311396,\n",
      "       0.00074858, 0.00147961, 0.00090056, 0.00196243, 0.00040059]), 'param_C': masked_array(data=[0.001, 0.01, 0.1, 1, 10, 0.001, 0.01, 0.1, 1, 10,\n",
      "                   0.001, 0.01, 0.1, 1, 10],\n",
      "             mask=[False, False, False, False, False, False, False, False,\n",
      "                   False, False, False, False, False, False, False],\n",
      "       fill_value='?',\n",
      "            dtype=object), 'param_penalty': masked_array(data=['none', 'none', 'none', 'none', 'none', 'l2', 'l2',\n",
      "                   'l2', 'l2', 'l2', 'l1', 'l1', 'l1', 'l1', 'l1'],\n",
      "             mask=[False, False, False, False, False, False, False, False,\n",
      "                   False, False, False, False, False, False, False],\n",
      "       fill_value='?',\n",
      "            dtype=object), 'params': [{'C': 0.001, 'penalty': 'none'}, {'C': 0.01, 'penalty': 'none'}, {'C': 0.1, 'penalty': 'none'}, {'C': 1, 'penalty': 'none'}, {'C': 10, 'penalty': 'none'}, {'C': 0.001, 'penalty': 'l2'}, {'C': 0.01, 'penalty': 'l2'}, {'C': 0.1, 'penalty': 'l2'}, {'C': 1, 'penalty': 'l2'}, {'C': 10, 'penalty': 'l2'}, {'C': 0.001, 'penalty': 'l1'}, {'C': 0.01, 'penalty': 'l1'}, {'C': 0.1, 'penalty': 'l1'}, {'C': 1, 'penalty': 'l1'}, {'C': 10, 'penalty': 'l1'}], 'split0_test_score': array([0.32800451, 0.32800451, 0.32800451, 0.32800451, 0.32800451,\n",
      "       0.13438867, 0.2876654 , 0.32311929, 0.32800451, 0.32800451,\n",
      "       0.01007156, 0.28911079, 0.31444727, 0.3206243 , 0.32800451]), 'split1_test_score': array([0.34282167, 0.34282167, 0.34282167, 0.34282167, 0.34282167,\n",
      "       0.12985791, 0.33051821, 0.3455358 , 0.3455358 , 0.34282167,\n",
      "       0.0502487 , 0.33437358, 0.34922593, 0.34282167, 0.34282167]), 'split2_test_score': array([ 0.29132072,  0.29132072,  0.29132072,  0.29132072,  0.29132072,\n",
      "        0.10489997,  0.25090929,  0.28239625,  0.29132072,  0.29132072,\n",
      "       -0.0077521 ,  0.25746408,  0.28694054,  0.29132072,  0.29132072]), 'split3_test_score': array([0.31068334, 0.31068334, 0.31068334, 0.31068334, 0.31068334,\n",
      "       0.15517871, 0.2798112 , 0.30944479, 0.31068334, 0.31068334,\n",
      "       0.0502487 , 0.29803766, 0.31192765, 0.31200951, 0.31068334]), 'split4_test_score': array([0.28686411, 0.28686411, 0.28686411, 0.28686411, 0.28686411,\n",
      "       0.13931071, 0.27185389, 0.29177054, 0.28686411, 0.28686411,\n",
      "       0.02339726, 0.26619033, 0.30310123, 0.28686411, 0.28686411]), 'split5_test_score': array([ 0.28267712,  0.28267712,  0.28267712,  0.28267712,  0.28267712,\n",
      "        0.14251831,  0.25928233,  0.27736845,  0.28267712,  0.28267712,\n",
      "       -0.02456996,  0.28959779,  0.2838144 ,  0.27877915,  0.28267712]), 'split6_test_score': array([0.32206375, 0.32206375, 0.32206375, 0.32206375, 0.32206375,\n",
      "       0.13496716, 0.27574839, 0.31841979, 0.32206375, 0.32206375,\n",
      "       0.01426276, 0.27437151, 0.32078078, 0.32206375, 0.32206375]), 'split7_test_score': array([0.28655533, 0.28655533, 0.28655533, 0.28655533, 0.28655533,\n",
      "       0.12171999, 0.25923567, 0.2851834 , 0.28655533, 0.28655533,\n",
      "       0.02470401, 0.27598992, 0.27877915, 0.28267712, 0.28655533]), 'split8_test_score': array([ 0.32087324,  0.32087324,  0.32087324,  0.32087324,  0.32087324,\n",
      "        0.12803611,  0.27018288,  0.31973099,  0.32087324,  0.32087324,\n",
      "       -0.03473144,  0.27312892,  0.31707345,  0.32087324,  0.32087324]), 'split9_test_score': array([0.37400394, 0.37400394, 0.37400394, 0.37400394, 0.37400394,\n",
      "       0.21335638, 0.35763037, 0.3723463 , 0.37400394, 0.37400394,\n",
      "       0.03498403, 0.36679501, 0.34960308, 0.36854289, 0.37400394]), 'mean_test_score': array([0.31458677, 0.31458677, 0.31458677, 0.31458677, 0.31458677,\n",
      "       0.14042339, 0.28428376, 0.31253156, 0.31485819, 0.31458677,\n",
      "       0.01408635, 0.29250596, 0.31156935, 0.31265765, 0.31458677]), 'std_test_score': array([0.02780674, 0.02780674, 0.02780674, 0.02780674, 0.02780674,\n",
      "       0.02735975, 0.03215791, 0.02863344, 0.02809279, 0.02780674,\n",
      "       0.0276082 , 0.03196857, 0.02347757, 0.02723976, 0.02780674]), 'rank_test_score': array([ 2,  2,  2,  2,  2, 14, 13, 10,  1,  2, 15, 12, 11,  9,  2])}\n"
     ]
    }
   ],
   "source": [
    "print(clfLogisticRegression.cv_results_)"
   ]
  },
  {
   "cell_type": "code",
   "execution_count": 32,
   "metadata": {},
   "outputs": [
    {
     "name": "stderr",
     "output_type": "stream",
     "text": [
      "C:\\Users\\oprea\\anaconda3\\lib\\site-packages\\sklearn\\linear_model\\_sag.py:328: ConvergenceWarning: The max_iter was reached which means the coef_ did not converge\n",
      "  warnings.warn(\"The max_iter was reached which means \"\n"
     ]
    },
    {
     "data": {
      "text/plain": [
       "GridSearchCV(cv=StratifiedKFold(n_splits=10, random_state=1, shuffle=True),\n",
       "             estimator=LogisticRegression(random_state=42, solver='saga'),\n",
       "             n_jobs=-1,\n",
       "             param_grid=[{'C': [0.1, 0.5, 1, 2, 3, 4, 5], 'penalty': ['none']},\n",
       "                         {'C': [0.1, 0.5, 1, 2, 3, 4, 5], 'penalty': ['l2']},\n",
       "                         {'C': [0.1, 0.5, 1, 2, 3, 4, 5], 'penalty': ['l1']}],\n",
       "             scoring=make_scorer(matthews_corrcoef))"
      ]
     },
     "execution_count": 32,
     "metadata": {},
     "output_type": "execute_result"
    }
   ],
   "source": [
    "param_grid = [{'C' : [.1, .5, 1, 2, 3, 4, 5], 'penalty' : ['none']},\n",
    "              {'C' : [.1, .5, 1, 2, 3, 4, 5], 'penalty' : ['l2']},\n",
    "              {'C' : [.1, .5, 1, 2, 3, 4, 5], 'penalty' : ['l1']}]\n",
    "clfLogisticRegression1 = GridSearchCV(estimator = model, param_grid = param_grid, scoring = score_function,\n",
    "                                   n_jobs = -1, cv = cv)\n",
    "clfLogisticRegression1.fit(train_X, train_y)"
   ]
  },
  {
   "cell_type": "code",
   "execution_count": 33,
   "metadata": {},
   "outputs": [
    {
     "data": {
      "image/png": "[encoded data removed]",
      "text/plain": [
       "<Figure size 720x432 with 1 Axes>"
      ]
     },
     "metadata": {
      "needs_background": "light"
     },
     "output_type": "display_data"
    },
    {
     "name": "stdout",
     "output_type": "stream",
     "text": [
      "Best set of hyper-parameters for Logistic Regression is {'C': 1, 'penalty': 'l2'}\n"
     ]
    }
   ],
   "source": [
    "param_Used = clfLogisticRegression1.cv_results_.get('param_C')[:7]\n",
    "mean_test_scores = []\n",
    "for i in range(3):\n",
    "    mean_test_scores.append(clfLogisticRegression1.cv_results_.get('mean_test_score')[7*i:(7 + 7*i)])\n",
    "\n",
    "plt.figure(figsize = (10, 6))\n",
    "plt.plot(list(mean_test_scores[0]), label = 'Penalty \"none\"')\n",
    "plt.plot(list(mean_test_scores[1]), label = 'Penalty \"l2\"')\n",
    "plt.plot(list(mean_test_scores[2]), label = 'Penalty \"l1\"')\n",
    "plt.title(\"MCC Score of Logistic Regression for different hyper-parameters\")\n",
    "plt.ylabel('MCC Score')\n",
    "plt.xlabel('Index in array \"param_Used\"')\n",
    "plt.legend(loc = 'best')\n",
    "plt.show()\n",
    "print('Best set of hyper-parameters for Logistic Regression is', clfLogisticRegression1.best_params_)\n",
    "#As you can see from the graph, the differences are really small, so there's no need in continuing with...\n",
    "#hyper-parameter tuning"
   ]
  },
  {
   "cell_type": "code",
   "execution_count": 34,
   "metadata": {},
   "outputs": [
    {
     "data": {
      "text/plain": [
       "GridSearchCV(cv=StratifiedKFold(n_splits=10, random_state=1, shuffle=True),\n",
       "             estimator=SVC(random_state=42), n_jobs=-1,\n",
       "             param_grid=[{'C': [0.01, 0.1, 1, 10, 100], 'kernel': ['linear']},\n",
       "                         {'C': [0.01, 0.1, 1, 10, 100], 'kernel': ['poly']},\n",
       "                         {'C': [0.01, 0.1, 1, 10, 100], 'kernel': ['rbf']},\n",
       "                         {'C': [0.01, 0.1, 1, 10, 100], 'kernel': ['sigmoid']}],\n",
       "             scoring=make_scorer(matthews_corrcoef))"
      ]
     },
     "execution_count": 34,
     "metadata": {},
     "output_type": "execute_result"
    }
   ],
   "source": [
    "#Now we perform hyper-parameter tuning for Support Vector Machines\n",
    "param_grid = [{'C' : [.01, .1, 1, 10, 100], 'kernel' : ['linear']},\n",
    "              {'C' : [.01, .1, 1, 10, 100], 'kernel' : ['poly']},\n",
    "              {'C' : [.01, .1, 1, 10, 100], 'kernel' : ['rbf']},\n",
    "              {'C' : [.01, .1, 1, 10, 100], 'kernel' : ['sigmoid']}]\n",
    "model = SVC(random_state = 42)\n",
    "clfSVC = GridSearchCV(estimator = model, param_grid = param_grid, scoring = score_function,\n",
    "                                   n_jobs = -1, cv = cv)\n",
    "clfSVC.fit(train_X, train_y)"
   ]
  },
  {
   "cell_type": "code",
   "execution_count": 43,
   "metadata": {},
   "outputs": [
    {
     "data": {
      "image/png": "[encoded data removed]",
      "text/plain": [
       "<Figure size 720x432 with 1 Axes>"
      ]
     },
     "metadata": {
      "needs_background": "light"
     },
     "output_type": "display_data"
    },
    {
     "name": "stdout",
     "output_type": "stream",
     "text": [
      "Best set of hyper-parameters for SVM is {'C': 10, 'kernel': 'rbf'}\n"
     ]
    }
   ],
   "source": [
    "param_Used = clfSVC.cv_results_.get('param_C')[:5]\n",
    "mean_test_scores = []\n",
    "for i in range(4):\n",
    "    mean_test_scores.append(clfSVC.cv_results_.get('mean_test_score')[5*i:(5 + 5*i)])\n",
    "plt.figure(figsize = (10, 6))\n",
    "plt.plot(list(mean_test_scores[0]), label = 'Kernel \"linear\"')\n",
    "plt.plot(list(mean_test_scores[1]), label = 'Kernel \"poly\"')\n",
    "plt.plot(list(mean_test_scores[2]), label = 'Kernel \"rbf\"')\n",
    "plt.plot(list(mean_test_scores[3]), label = 'Kernel \"sigmoid\"')\n",
    "plt.title(\"MCC Score of Support Vector Machine for different hyper-parameters\")\n",
    "plt.ylabel('MCC Score')\n",
    "plt.xlabel('Index in array \"param_Used\"')\n",
    "plt.legend(loc = 'best')\n",
    "plt.show()\n",
    "print('Best set of hyper-parameters for SVM is', clfSVC.best_params_)\n",
    "#Continue with poly and rbf for bigger values"
   ]
  },
  {
   "cell_type": "code",
   "execution_count": 41,
   "metadata": {},
   "outputs": [
    {
     "data": {
      "text/plain": [
       "GridSearchCV(cv=StratifiedKFold(n_splits=10, random_state=1, shuffle=True),\n",
       "             estimator=SVC(random_state=42), n_jobs=-1,\n",
       "             param_grid=[{'C': [50, 80, 100, 120, 150], 'kernel': ['rbf']},\n",
       "                         {'C': [50, 80, 100, 120, 150], 'kernel': ['poly']}],\n",
       "             scoring=make_scorer(matthews_corrcoef))"
      ]
     },
     "execution_count": 41,
     "metadata": {},
     "output_type": "execute_result"
    }
   ],
   "source": [
    "param_grid = [{'C' : [50, 80, 100, 120, 150], 'kernel' : ['rbf']},\n",
    "              {'C' : [50, 80, 100, 120, 150], 'kernel' : ['poly']}]\n",
    "clfSVC1 = GridSearchCV(estimator = model, param_grid = param_grid, scoring = score_function,\n",
    "                                   n_jobs = -1, cv = cv)\n",
    "clfSVC1.fit(train_X, train_y)"
   ]
  },
  {
   "cell_type": "code",
   "execution_count": 45,
   "metadata": {},
   "outputs": [
    {
     "data": {
      "image/png": "[encoded data removed]",
      "text/plain": [
       "<Figure size 720x432 with 1 Axes>"
      ]
     },
     "metadata": {
      "needs_background": "light"
     },
     "output_type": "display_data"
    },
    {
     "name": "stdout",
     "output_type": "stream",
     "text": [
      "Best set of hyper-parameters for SVM is {'C': 10, 'kernel': 'rbf'}\n"
     ]
    }
   ],
   "source": [
    "param_Used = clfSVC1.cv_results_.get('param_C')[:5]\n",
    "mean_test_scores = [clfSVC1.cv_results_.get('mean_test_score')[:5], clfSVC1.cv_results_.get('mean_test_score')[5:]]\n",
    "plt.figure(figsize = (10, 6))\n",
    "plt.plot(list(mean_test_scores[0]), label = 'Kernel \"rbf\"')\n",
    "plt.plot(list(mean_test_scores[1]), label = 'Kernel \"poly\"')\n",
    "plt.title(\"MCC Score of Support Vector Machine for different hyper-parameters\")\n",
    "plt.ylabel('MCC Score')\n",
    "plt.xlabel('Index in array \"param_Used\"')\n",
    "plt.legend(loc = 'best')\n",
    "plt.show()\n",
    "print('Best set of hyper-parameters for SVM is', clfSVC1.best_params_)"
   ]
  },
  {
   "cell_type": "code",
   "execution_count": 46,
   "metadata": {},
   "outputs": [
    {
     "data": {
      "text/plain": [
       "GridSearchCV(cv=StratifiedKFold(n_splits=10, random_state=1, shuffle=True),\n",
       "             estimator=SVC(random_state=42), n_jobs=-1,\n",
       "             param_grid=[{'C': [10, 20, 30, 40, 50], 'kernel': ['rbf']}],\n",
       "             scoring=make_scorer(matthews_corrcoef))"
      ]
     },
     "execution_count": 46,
     "metadata": {},
     "output_type": "execute_result"
    }
   ],
   "source": [
    "param_grid = [{'C' : [10, 20, 30, 40, 50], 'kernel' : ['rbf']}]\n",
    "clfSVC2 = GridSearchCV(estimator = model, param_grid = param_grid, scoring = score_function,\n",
    "                                   n_jobs = -1, cv = cv)\n",
    "clfSVC2.fit(train_X, train_y)"
   ]
  },
  {
   "cell_type": "code",
   "execution_count": 48,
   "metadata": {},
   "outputs": [
    {
     "data": {
      "image/png": "[encoded data removed]",
      "text/plain": [
       "<Figure size 720x432 with 1 Axes>"
      ]
     },
     "metadata": {
      "needs_background": "light"
     },
     "output_type": "display_data"
    },
    {
     "name": "stdout",
     "output_type": "stream",
     "text": [
      "Best set of hyper-parameters for SVM is {'C': 30, 'kernel': 'rbf'}\n"
     ]
    }
   ],
   "source": [
    "param_Used = clfSVC2.cv_results_.get('param_C')\n",
    "mean_test_scores = clfSVC2.cv_results_.get('mean_test_score')\n",
    "plt.figure(figsize = (10, 6))\n",
    "plt.plot(list(mean_test_scores), label = 'Kernel \"rbf\"')\n",
    "plt.title(\"MCC Score of Support Vector Machine for different C values for kernel = 'rbf'\")\n",
    "plt.ylabel('MCC Score')\n",
    "plt.xlabel('Index in array \"param_Used\"')\n",
    "plt.legend(loc = 'best')\n",
    "plt.show()\n",
    "print('Best set of hyper-parameters for SVM is', clfSVC2.best_params_)"
   ]
  },
  {
   "cell_type": "code",
   "execution_count": 78,
   "metadata": {},
   "outputs": [
    {
     "data": {
      "text/plain": [
       "GridSearchCV(cv=StratifiedKFold(n_splits=10, random_state=1, shuffle=True),\n",
       "             estimator=DecisionTreeClassifier(random_state=42), n_jobs=-1,\n",
       "             param_grid=[{'max_depth': [10, 20, 30, 40, 50, 60, 70, 80, 90,\n",
       "                                        100],\n",
       "                          'min_samples_leaf': [2, 4, 6, 8, 10]},\n",
       "                         {'max_depth': [None],\n",
       "                          'min_samples_leaf': [2, 4, 6, 8, 10]}],\n",
       "             scoring=make_scorer(matthews_corrcoef))"
      ]
     },
     "execution_count": 78,
     "metadata": {},
     "output_type": "execute_result"
    }
   ],
   "source": [
    "#Now we perform hyper-parameter tuning for Decision Trees\n",
    "param_grid = [{'max_depth' : [10, 20, 30, 40, 50, 60, 70, 80, 90, 100], 'min_samples_leaf' : [2, 4, 6, 8, 10]},\n",
    "             {'max_depth' : [None], 'min_samples_leaf' : [2, 4, 6, 8, 10]}]\n",
    "model = DecisionTreeClassifier(random_state = 42)\n",
    "clfDecisionTree = GridSearchCV(estimator = model, param_grid = param_grid, scoring = score_function,\n",
    "                                   n_jobs = -1, cv = cv)\n",
    "clfDecisionTree.fit(train_X, train_y)"
   ]
  },
  {
   "cell_type": "code",
   "execution_count": 80,
   "metadata": {
    "scrolled": true
   },
   "outputs": [
    {
     "name": "stdout",
     "output_type": "stream",
     "text": [
      "Best parameter for the first iteration {'max_depth': 10, 'min_samples_leaf': 10}\n"
     ]
    }
   ],
   "source": [
    "#print(clfDecisionTree.cv_results_)\n",
    "print('Best parameter for the first iteration', clfDecisionTree.best_params_)"
   ]
  },
  {
   "cell_type": "code",
   "execution_count": 83,
   "metadata": {},
   "outputs": [
    {
     "data": {
      "text/plain": [
       "GridSearchCV(cv=StratifiedKFold(n_splits=10, random_state=1, shuffle=True),\n",
       "             estimator=DecisionTreeClassifier(random_state=42), n_jobs=-1,\n",
       "             param_grid=[{'max_depth': [5, 7, 9, 10, 11, 13, 15],\n",
       "                          'min_samples_leaf': [2, 4, 6, 8, 10]}],\n",
       "             scoring=make_scorer(matthews_corrcoef))"
      ]
     },
     "execution_count": 83,
     "metadata": {},
     "output_type": "execute_result"
    }
   ],
   "source": [
    "param_grid = [{'max_depth' : [5, 7, 9, 10, 11, 13, 15], 'min_samples_leaf' : [2, 4, 6, 8, 10]}]\n",
    "clfDecisionTree1 = GridSearchCV(estimator = model, param_grid = param_grid, scoring = score_function,\n",
    "                                   n_jobs = -1, cv = cv)\n",
    "clfDecisionTree1.fit(train_X, train_y)"
   ]
  },
  {
   "cell_type": "code",
   "execution_count": 87,
   "metadata": {},
   "outputs": [
    {
     "name": "stdout",
     "output_type": "stream",
     "text": [
      "Best parameter for the 2nd iteration {'max_depth': 5, 'min_samples_leaf': 4}\n"
     ]
    }
   ],
   "source": [
    "print('Best parameter for the 2nd iteration', clfDecisionTree1.best_params_)\n",
    "#print(clfDecisionTree1.cv_results_)"
   ]
  },
  {
   "cell_type": "code",
   "execution_count": 89,
   "metadata": {},
   "outputs": [
    {
     "data": {
      "text/plain": [
       "GridSearchCV(cv=StratifiedKFold(n_splits=10, random_state=1, shuffle=True),\n",
       "             estimator=DecisionTreeClassifier(random_state=42), n_jobs=-1,\n",
       "             param_grid=[{'max_depth': array([ 1,  2,  3,  4,  5,  6,  7,  8,  9, 10, 11, 12, 13, 14, 15, 16, 17,\n",
       "       18, 19, 20]),\n",
       "                          'min_samples_leaf': array([ 1,  2,  3,  4,  5,  6,  7,  8,  9, 10, 11, 12, 13, 14, 15, 16, 17,\n",
       "       18, 19])}],\n",
       "             scoring=make_scorer(matthews_corrcoef))"
      ]
     },
     "execution_count": 89,
     "metadata": {},
     "output_type": "execute_result"
    }
   ],
   "source": [
    "param_grid = [{'max_depth' : np.arange(1, 21), 'min_samples_leaf' : np.arange(1,20)}]\n",
    "clfDecisionTree2 = GridSearchCV(estimator = model, param_grid = param_grid, scoring = score_function,\n",
    "                                   n_jobs = -1, cv = cv)\n",
    "clfDecisionTree2.fit(train_X, train_y)"
   ]
  },
  {
   "cell_type": "code",
   "execution_count": 94,
   "metadata": {},
   "outputs": [
    {
     "name": "stdout",
     "output_type": "stream",
     "text": [
      "Best parameter for the 3rd iteration {'max_depth': 6, 'min_samples_leaf': 5}\n",
      "Best score was 0.3800064696511868\n"
     ]
    }
   ],
   "source": [
    "print('Best parameter for the 3rd iteration', clfDecisionTree2.best_params_)\n",
    "print('Best score was', clfDecisionTree2.best_score_)\n",
    "#As you can see, throughout the 3 iterations, the high values for the model have consistently performed...\n",
    "#... worse than the low values. Therefore, we don't need to test for values higher than what we've...\n",
    "#... already tested for.Thus we can conclude that the best_params we've found so far will give us the...\n",
    "#... best DecisionTreeModel"
   ]
  },
  {
   "cell_type": "markdown",
   "metadata": {},
   "source": [
    "### Question 4"
   ]
  },
  {
   "cell_type": "code",
   "execution_count": 107,
   "metadata": {},
   "outputs": [],
   "source": [
    "tuned_models = {\n",
    "    'gaussianClassifier' : GaussianNB(),\n",
    "    'knnClassifier' : KNeighborsClassifier(n_neighbors = 23, weights = \"uniform\"),\n",
    "    'logisticRegressionClassifier' : LogisticRegression(C = 1, penalty = \"l2\", random_state = 42, solver = 'saga'),\n",
    "    'svcClassifier' : SVC(C = 10, kernel = \"rbf\", random_state = 42),\n",
    "    'decisionTreeClassifier' : DecisionTreeClassifier(max_depth = 6, min_samples_leaf = 5, random_state = 42)\n",
    "}"
   ]
  },
  {
   "cell_type": "code",
   "execution_count": 125,
   "metadata": {},
   "outputs": [
    {
     "name": "stderr",
     "output_type": "stream",
     "text": [
      "C:\\Users\\oprea\\anaconda3\\lib\\site-packages\\sklearn\\linear_model\\_sag.py:328: ConvergenceWarning: The max_iter was reached which means the coef_ did not converge\n",
      "  warnings.warn(\"The max_iter was reached which means \"\n"
     ]
    },
    {
     "name": "stdout",
     "output_type": "stream",
     "text": [
      "[0.09652615311195145, 0.3492639032250405, 0.3717917009563467, 0.3492386564947812, 0.3838980210764095]\n"
     ]
    }
   ],
   "source": [
    "testScores_tuned = []\n",
    "for name, model in tuned_models.items():\n",
    "    model.fit(train_X, train_y)\n",
    "    predictions = model.predict(test_X)\n",
    "    testScores_tuned.append(matthews_corrcoef(test_y, predictions))\n",
    "print(testScores_tuned)"
   ]
  },
  {
   "cell_type": "code",
   "execution_count": 191,
   "metadata": {},
   "outputs": [
    {
     "data": {
      "image/png": "[encoded data removed]",
      "text/plain": [
       "<Figure size 864x432 with 1 Axes>"
      ]
     },
     "metadata": {
      "needs_background": "light"
     },
     "output_type": "display_data"
    }
   ],
   "source": [
    "#TODO\n",
    "\n",
    "# plt.figure(figsize = (10, 6))\n",
    "# plt.bar(models.keys(), testScores)\n",
    "# plt.bar(tuned_models.keys(), testScores_tuned)\n",
    "# plt.title(\"MCC Score between different classifiers\")\n",
    "# plt.ylabel('MCC Score')\n",
    "# plt.xlabel('Classifier Name')\n",
    "# plt.show()\n",
    "\n",
    "fig, ax = plt.subplots()\n",
    "# a_heights, a_bins = np.histogram(testScores)\n",
    "# b_heights, b_bins = np.histogram(testScores_tuned, bins = a_bins)\n",
    "\n",
    "width = 0.3\n",
    "x_testScores = [0, 1, 2, 3, 4]\n",
    "x_testScores_tuned = [0.3, 1.3, 2.3, 3.3, 4.3]\n",
    "fig.set_figwidth(12)\n",
    "fig.set_figheight(6)\n",
    "ax.bar(x_testScores, testScores, width = width, label = 'Untuned models')\n",
    "ax.bar(x_testScores_tuned, testScores_tuned, width = width, label = 'Tuned modes')\n",
    "ax.set_title('MCC score between tuned classifiers and untuned classifiers')\n",
    "ax.bar(models.keys(), 0)\n",
    "ax.legend(loc = 'best')\n",
    "plt.show()\n",
    "# ax.bar(b_bins[:-1]+width, b_heights, width = width, label = 'Under 50k')\n",
    "# ax.legend(bbox_to_anchor=(1.05, 1.0), loc='upper left')\n",
    "# ax.title.set_text(\"Distribution of number of years in education between people making over 50k and people making less than 50k\")"
   ]
  },
  {
   "cell_type": "markdown",
   "metadata": {},
   "source": [
    "### Question 5"
   ]
  },
  {
   "cell_type": "code",
   "execution_count": 189,
   "metadata": {},
   "outputs": [],
   "source": [
    "#TODO\n",
    "#Now since we've seen that the DecisionTreeClassifier performs best, we can use the entire data...\n",
    "#... for training before submitting the entire predictions\n",
    "\n",
    "finalModel = DecisionTreeClassifier(max_depth = 6, min_samples_leaf = 5, random_state = 42)\n",
    "finalModel.fit(X_train_final, y_train_final)\n",
    "\n",
    "prediction = finalModel.predict(X_test) # TODO replace this with you own prediction\n",
    "pd.DataFrame(prediction).to_csv(\"GROUP_classes_problem_census.txt\", index=False, header=False)"
   ]
  },
  {
   "cell_type": "code",
   "execution_count": null,
   "metadata": {},
   "outputs": [],
   "source": []
  }
 ],
 "metadata": {
  "kernelspec": {
   "display_name": "Python 3",
   "language": "python",
   "name": "python3"
  },
  "language_info": {
   "codemirror_mode": {
    "name": "ipython",
    "version": 3
   },
   "file_extension": ".py",
   "mimetype": "text/x-python",
   "name": "python",
   "nbconvert_exporter": "python",
   "pygments_lexer": "ipython3",
   "version": "3.8.8"
  }
 },
 "nbformat": 4,
 "nbformat_minor": 4
}
